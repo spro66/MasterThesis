{
  "nbformat": 4,
  "nbformat_minor": 0,
  "metadata": {
    "colab": {
      "provenance": [],
      "collapsed_sections": [],
      "authorship_tag": "ABX9TyPmArcLzu9UDCMCFLwy4DVk"
    },
    "kernelspec": {
      "name": "python3",
      "display_name": "Python 3"
    },
    "language_info": {
      "name": "python"
    },
    "accelerator": "GPU"
  },
  "cells": [
    {
      "cell_type": "code",
      "execution_count": null,
      "metadata": {
        "colab": {
          "base_uri": "https://localhost:8080/"
        },
        "id": "QZ5UDJcfxuNf",
        "outputId": "7cc3903c-3abe-4a0c-91ff-dfdf792864df"
      },
      "outputs": [
        {
          "output_type": "stream",
          "name": "stdout",
          "text": [
            "--2022-10-15 07:50:43--  http://files.grouplens.org/datasets/movielens/ml-latest-small.zip\n",
            "Resolving files.grouplens.org (files.grouplens.org)... 128.101.65.152\n",
            "Connecting to files.grouplens.org (files.grouplens.org)|128.101.65.152|:80... connected.\n",
            "HTTP request sent, awaiting response... 200 OK\n",
            "Length: 978202 (955K) [application/zip]\n",
            "Saving to: ‘ml-latest-small.zip’\n",
            "\n",
            "ml-latest-small.zip 100%[===================>] 955.28K   720KB/s    in 1.3s    \n",
            "\n",
            "2022-10-15 07:50:45 (720 KB/s) - ‘ml-latest-small.zip’ saved [978202/978202]\n",
            "\n",
            "Archive:  ml-latest-small.zip\n",
            "   creating: ml-latest-small/\n",
            "  inflating: ml-latest-small/links.csv  \n",
            "  inflating: ml-latest-small/tags.csv  \n",
            "  inflating: ml-latest-small/ratings.csv  \n",
            "  inflating: ml-latest-small/README.txt  \n",
            "  inflating: ml-latest-small/movies.csv  \n",
            "--2022-10-15 07:50:46--  http://www2.informatik.uni-freiburg.de/~cziegler/BX/BX-CSV-Dump.zip\n",
            "Resolving www2.informatik.uni-freiburg.de (www2.informatik.uni-freiburg.de)... 132.230.105.133\n",
            "Connecting to www2.informatik.uni-freiburg.de (www2.informatik.uni-freiburg.de)|132.230.105.133|:80... connected.\n",
            "HTTP request sent, awaiting response... 200 OK\n",
            "Length: 26085508 (25M) [application/zip]\n",
            "Saving to: ‘BX-CSV-Dump.zip’\n",
            "\n",
            "BX-CSV-Dump.zip     100%[===================>]  24.88M  8.59MB/s    in 2.9s    \n",
            "\n",
            "2022-10-15 07:50:49 (8.59 MB/s) - ‘BX-CSV-Dump.zip’ saved [26085508/26085508]\n",
            "\n",
            "Archive:  BX-CSV-Dump.zip\n",
            "  inflating: BX-Book-Ratings.csv     \n",
            "  inflating: BX-Books.csv            \n",
            "  inflating: BX-Users.csv            \n"
          ]
        }
      ],
      "source": [
        "# Downloading the movielens datasets and Book-Crossing Dataset\n",
        "\n",
        "# Movielens Dataset\n",
        "!wget http://files.grouplens.org/datasets/movielens/ml-latest-small.zip\n",
        "!unzip ml-latest-small.zip\n",
        "# Book-Crossing Dataset\n",
        "!wget http://www2.informatik.uni-freiburg.de/~cziegler/BX/BX-CSV-Dump.zip\n",
        "!unzip BX-CSV-Dump.zip"
      ]
    },
    {
      "cell_type": "code",
      "source": [
        "# Importing reuired packages\n",
        "import pandas as pd\n",
        "import numpy as np\n",
        "import tensorflow as tf\n",
        "import torch\n",
        "from tensorflow import keras\n",
        "from tensorflow.keras import layers\n",
        "from keras.models import Model\n",
        "import pickle\n",
        "import matplotlib.pyplot as plt\n",
        "%matplotlib inline"
      ],
      "metadata": {
        "id": "Z4PC40G2zBTQ"
      },
      "execution_count": null,
      "outputs": []
    },
    {
      "cell_type": "code",
      "source": [
        "# Reading required files\n",
        "ratings = pd.read_csv(\"ml-latest-small/ratings.csv\")\n",
        "movies = pd.read_csv(\"ml-latest-small/movies.csv\")\n",
        "book_rating_data = pd.read_csv(\"BX-Book-Ratings.csv\", encoding='latin1', sep=';')"
      ],
      "metadata": {
        "id": "uf9QduDSzUNq"
      },
      "execution_count": null,
      "outputs": []
    },
    {
      "cell_type": "code",
      "source": [
        "# Snapshot of the loaded dataset\n",
        "print(ratings.head())\n",
        "print(movies.head())\n",
        "print(book_rating_data.head())"
      ],
      "metadata": {
        "colab": {
          "base_uri": "https://localhost:8080/"
        },
        "id": "MAS7AdX8za6Z",
        "outputId": "a3d082cf-79c5-4f99-bc50-f5378fdc6036"
      },
      "execution_count": null,
      "outputs": [
        {
          "output_type": "stream",
          "name": "stdout",
          "text": [
            "   userId  movieId  rating  timestamp\n",
            "0       1        1     4.0  964982703\n",
            "1       1        3     4.0  964981247\n",
            "2       1        6     4.0  964982224\n",
            "3       1       47     5.0  964983815\n",
            "4       1       50     5.0  964982931\n",
            "   movieId                               title  \\\n",
            "0        1                    Toy Story (1995)   \n",
            "1        2                      Jumanji (1995)   \n",
            "2        3             Grumpier Old Men (1995)   \n",
            "3        4            Waiting to Exhale (1995)   \n",
            "4        5  Father of the Bride Part II (1995)   \n",
            "\n",
            "                                        genres  \n",
            "0  Adventure|Animation|Children|Comedy|Fantasy  \n",
            "1                   Adventure|Children|Fantasy  \n",
            "2                               Comedy|Romance  \n",
            "3                         Comedy|Drama|Romance  \n",
            "4                                       Comedy  \n",
            "   User-ID        ISBN  Book-Rating\n",
            "0   276725  034545104X            0\n",
            "1   276726  0155061224            5\n",
            "2   276727  0446520802            0\n",
            "3   276729  052165615X            3\n",
            "4   276729  0521795028            6\n"
          ]
        }
      ]
    },
    {
      "cell_type": "code",
      "source": [
        "# Function for creation of Index for both the Movielens and Book rating datasets\n",
        "def user_item_index(col):\n",
        "  user_item_ids = col.unique().tolist()\n",
        "  user_item_idx = {x: i for i, x in enumerate(user_item_ids)}\n",
        "  idx_user_item = {i: x for i, x in enumerate(user_item_ids)}\n",
        "  return user_item_idx"
      ],
      "metadata": {
        "id": "Ltk2X0SUN61w"
      },
      "execution_count": null,
      "outputs": []
    },
    {
      "cell_type": "code",
      "source": [
        "#Generating unique index for the user as well as the item\n",
        "\n",
        "ratings[\"user\"] = ratings[\"userId\"].map(user_item_index(ratings[\"userId\"]))\n",
        "ratings[\"item\"] = ratings[\"movieId\"].map(user_item_index(ratings[\"movieId\"]))\n",
        "\n",
        "\n",
        "book_rating_data[\"user\"] = book_rating_data[\"User-ID\"].map(user_item_index(book_rating_data[\"User-ID\"]))\n",
        "book_rating_data[\"item\"] = book_rating_data[\"ISBN\"].map(user_item_index(book_rating_data[\"ISBN\"]))\n",
        "book_rating_data.rename(columns = {'Book-Rating':'rating'}, inplace=True)"
      ],
      "metadata": {
        "id": "HOqkvhMRPq7q"
      },
      "execution_count": null,
      "outputs": []
    },
    {
      "cell_type": "code",
      "source": [
        "# Cnapshot of the newly created columns\n",
        "print(ratings.head())\n",
        "print(book_rating_data.head())"
      ],
      "metadata": {
        "colab": {
          "base_uri": "https://localhost:8080/"
        },
        "id": "x8M0lfTVWFk8",
        "outputId": "e6ccf3ff-737d-4022-8fd8-c014d443a1b5"
      },
      "execution_count": null,
      "outputs": [
        {
          "output_type": "stream",
          "name": "stdout",
          "text": [
            "   userId  movieId  rating  timestamp  user  item\n",
            "0       1        1     4.0  964982703     0     0\n",
            "1       1        3     4.0  964981247     0     1\n",
            "2       1        6     4.0  964982224     0     2\n",
            "3       1       47     5.0  964983815     0     3\n",
            "4       1       50     5.0  964982931     0     4\n",
            "   User-ID        ISBN  rating  user  item\n",
            "0   276725  034545104X       0     0     0\n",
            "1   276726  0155061224       5     1     1\n",
            "2   276727  0446520802       0     2     2\n",
            "3   276729  052165615X       3     3     3\n",
            "4   276729  0521795028       6     3     4\n"
          ]
        }
      ]
    },
    {
      "cell_type": "code",
      "source": [
        "# Preliminary view for the unique users and the items\n",
        "num_users = len(ratings[\"userId\"].unique().tolist())\n",
        "num_items = len(ratings[\"movieId\"].unique().tolist())\n",
        "\n",
        "br_num_users = len(book_rating_data[\"User-ID\"].unique().tolist())\n",
        "br_num_items = len(book_rating_data[\"ISBN\"].unique().tolist())\n",
        "\n",
        "\n",
        "print(num_users)\n",
        "print(num_items)\n",
        "print(br_num_users)\n",
        "print(br_num_items)\n"
      ],
      "metadata": {
        "colab": {
          "base_uri": "https://localhost:8080/"
        },
        "id": "nKcus-7MXmvk",
        "outputId": "67dcbdaf-3690-46c1-9fd9-2bedf3dd1825"
      },
      "execution_count": null,
      "outputs": [
        {
          "output_type": "stream",
          "name": "stdout",
          "text": [
            "610\n",
            "9724\n",
            "105283\n",
            "340556\n"
          ]
        }
      ]
    },
    {
      "cell_type": "code",
      "source": [
        "# Creation of Train and Val datasets for the purpose of modelling starts here\n",
        "# Change the dataset name as per the interest - movielens dataset > ratings, book rating dataset > book_rating_data\n",
        "\n",
        "rating = book_rating_data\n",
        "rating[\"rating\"] = rating[\"rating\"].values.astype(np.float32)\n",
        "\n",
        "min_rating = min(rating[\"rating\"])\n",
        "max_rating = max(rating[\"rating\"])\n",
        "\n",
        "# Creation of train and validation dataset\n",
        "data = rating.sample(frac=1, random_state=1)\n",
        "x = data[[\"user\",\"item\"]].values\n",
        "y = data[\"rating\"].apply(lambda x: (x - min_rating) / (max_rating - min_rating)).values\n",
        "\n",
        "\n",
        "train_indices = int(0.7 * data.shape[0])\n",
        "\n",
        "x_train, x_val, y_train, y_val = (x[:train_indices], x[train_indices:], y[:train_indices], y[train_indices:])\n",
        "\n",
        "print(x_train.shape)\n",
        "print(y_train.shape)\n",
        "print(x_val.shape)\n",
        "print(y_val.shape)"
      ],
      "metadata": {
        "colab": {
          "base_uri": "https://localhost:8080/"
        },
        "id": "9KW7fzMXIrwW",
        "outputId": "3a5db7f3-3f54-4dc6-cb2a-ffabaa5f6d8e"
      },
      "execution_count": null,
      "outputs": [
        {
          "output_type": "stream",
          "name": "stdout",
          "text": [
            "(804846, 2)\n",
            "(804846,)\n",
            "(344934, 2)\n",
            "(344934,)\n"
          ]
        }
      ]
    },
    {
      "cell_type": "code",
      "source": [
        "print(y_val)\n",
        "print(x_val)"
      ],
      "metadata": {
        "colab": {
          "base_uri": "https://localhost:8080/"
        },
        "id": "D_U1NeDdjCfP",
        "outputId": "86fff4a5-44c5-4aee-f0d2-7c666a96cbbd"
      },
      "execution_count": null,
      "outputs": [
        {
          "output_type": "stream",
          "name": "stdout",
          "text": [
            "[0.  0.5 0.7 ... 0.  1.  0. ]\n",
            "[[ 95134 245658]\n",
            " [ 55817  73313]\n",
            " [ 64776 195957]\n",
            " ...\n",
            " [ 43533  30040]\n",
            " [ 45274  16101]\n",
            " [ 11893  68630]]\n"
          ]
        }
      ]
    },
    {
      "cell_type": "code",
      "source": [
        "# Model creation using Matrix Factorisation Methodology\n",
        "class Recomm(keras.Model):\n",
        "  def __init__(self, num_users, num_items, embedding_size, **kwargs):\n",
        "    super(Recomm, self).__init__(**kwargs)\n",
        "    self.num_users = num_users\n",
        "    self.num_items = num_items\n",
        "    self.embedding_size = embedding_size\n",
        "    self.user_embed = layers.Embedding(\n",
        "        num_users,\n",
        "        embedding_size,\n",
        "        embeddings_initializer=\"uniform\",\n",
        "        embeddings_regularizer=keras.regularizers.l2(1e-6)\n",
        "    )\n",
        "    self.user_bias = layers.Embedding(num_users, 1)\n",
        "    self.item_embed = layers.Embedding(\n",
        "        num_items,\n",
        "        embedding_size,\n",
        "        embeddings_initializer=\"uniform\",\n",
        "        embeddings_regularizer=keras.regularizers.l2(1e-6)\n",
        "    )\n",
        "    self.item_bias = layers.Embedding(num_items, 1)\n",
        "\n",
        "\n",
        "\n",
        "  def call(self, inputs):\n",
        "    user_vector = self.user_embed(inputs[:,0])\n",
        "    user_bias = self.user_bias(inputs[:,0])\n",
        "    item_vector = self.item_embed(inputs[:,1])\n",
        "    item_bias = self.item_bias(inputs[:,1])\n",
        "    #dot_user_item = tf.tensordot(user_vector, item_vector, 2)\n",
        "    dot_user_item = layers.dot([user_vector, item_vector], axes=1)\n",
        "\n",
        "    x = dot_user_item + user_bias + item_bias\n",
        "    return tf.nn.sigmoid(x)"
      ],
      "metadata": {
        "id": "YzAfOVjsCi3O"
      },
      "execution_count": null,
      "outputs": []
    },
    {
      "cell_type": "code",
      "source": [
        "# Fitting model for different Embedding Dimensions and storing the validation loss for further analysisin -'new'\n",
        "Embedding_size = [8, 16, 32, 64] \n",
        "\n",
        "\n",
        "new = {'val_loss':[]}\n",
        "for i in Embedding_size:\n",
        "  model = Recomm(br_num_users, br_num_items, i)\n",
        "  model.compile(loss = tf.keras.losses.BinaryCrossentropy(), optimizer=keras.optimizers.Adam())\n",
        "  history = model.fit(\n",
        "    x=x_train,\n",
        "    y=y_train,\n",
        "    batch_size=64,\n",
        "    epochs=5,\n",
        "    verbose=1,\n",
        "    validation_data=(x_val, y_val)\n",
        "  )\n",
        "\n",
        "  new['val_loss'].append(history.history['val_loss'])\n"
      ],
      "metadata": {
        "colab": {
          "base_uri": "https://localhost:8080/"
        },
        "id": "aLBg800tzfS2",
        "outputId": "bca10981-2001-4046-9467-b689f66cba32"
      },
      "execution_count": null,
      "outputs": [
        {
          "output_type": "stream",
          "name": "stdout",
          "text": [
            "Epoch 1/5\n",
            "12576/12576 [==============================] - 68s 5ms/step - loss: 0.5882 - val_loss: 0.5377\n",
            "Epoch 2/5\n",
            "12576/12576 [==============================] - 63s 5ms/step - loss: 0.5160 - val_loss: 0.5179\n",
            "Epoch 3/5\n",
            "12576/12576 [==============================] - 64s 5ms/step - loss: 0.4947 - val_loss: 0.5113\n",
            "Epoch 4/5\n",
            "12576/12576 [==============================] - 62s 5ms/step - loss: 0.4812 - val_loss: 0.5087\n",
            "Epoch 5/5\n",
            "12576/12576 [==============================] - 63s 5ms/step - loss: 0.4707 - val_loss: 0.5084\n",
            "Epoch 1/5\n",
            "12576/12576 [==============================] - 94s 7ms/step - loss: 0.5880 - val_loss: 0.5385\n",
            "Epoch 2/5\n",
            "12576/12576 [==============================] - 93s 7ms/step - loss: 0.5171 - val_loss: 0.5195\n",
            "Epoch 3/5\n",
            "12576/12576 [==============================] - 93s 7ms/step - loss: 0.4953 - val_loss: 0.5125\n",
            "Epoch 4/5\n",
            "12576/12576 [==============================] - 83s 7ms/step - loss: 0.4806 - val_loss: 0.5101\n",
            "Epoch 5/5\n",
            "12576/12576 [==============================] - 83s 7ms/step - loss: 0.4692 - val_loss: 0.5104\n",
            "Epoch 1/5\n",
            "12576/12576 [==============================] - 127s 10ms/step - loss: 0.5887 - val_loss: 0.5404\n",
            "Epoch 2/5\n",
            "12576/12576 [==============================] - 127s 10ms/step - loss: 0.5188 - val_loss: 0.5216\n",
            "Epoch 3/5\n",
            "12576/12576 [==============================] - 126s 10ms/step - loss: 0.4956 - val_loss: 0.5144\n",
            "Epoch 4/5\n",
            "12576/12576 [==============================] - 133s 11ms/step - loss: 0.4791 - val_loss: 0.5131\n",
            "Epoch 5/5\n",
            "12576/12576 [==============================] - 127s 10ms/step - loss: 0.4663 - val_loss: 0.5147\n",
            "Epoch 1/5\n",
            "12576/12576 [==============================] - 213s 17ms/step - loss: 0.5900 - val_loss: 0.5431\n",
            "Epoch 2/5\n",
            "12576/12576 [==============================] - 213s 17ms/step - loss: 0.5208 - val_loss: 0.5242\n",
            "Epoch 3/5\n",
            "12576/12576 [==============================] - 212s 17ms/step - loss: 0.4957 - val_loss: 0.5182\n",
            "Epoch 4/5\n",
            "12576/12576 [==============================] - 212s 17ms/step - loss: 0.4774 - val_loss: 0.5185\n",
            "Epoch 5/5\n",
            "12576/12576 [==============================] - 211s 17ms/step - loss: 0.4635 - val_loss: 0.5212\n"
          ]
        }
      ]
    },
    {
      "cell_type": "code",
      "source": [
        "# Code for plotting validation losses across epochs\n",
        "for i, v in val_losses_data.iterrows():\n",
        "  plt.plot(val_losses_data['val_loss'][i], '-o')\n",
        "plt.title('Model Loss for different dimensions for Book Rating Dataset')\n",
        "plt.ylabel('val_loss')\n",
        "plt.xlabel('epoch')\n",
        "plt.legend(val_losses_data['Dim'], loc='lower left')\n",
        "plt.show()"
      ],
      "metadata": {
        "colab": {
          "base_uri": "https://localhost:8080/",
          "height": 295
        },
        "id": "azCEsooS9NgT",
        "outputId": "4cf98c54-ff4f-45da-a49c-2ed637fa07cd"
      },
      "execution_count": null,
      "outputs": [
        {
          "output_type": "display_data",
          "data": {
            "text/plain": [
              "<Figure size 432x288 with 1 Axes>"
            ],
            "image/png": "[encoded data removed]"
          },
          "metadata": {
            "needs_background": "light"
          }
        }
      ]
    },
    {
      "cell_type": "markdown",
      "source": [
        "## Movielens Dataset - This snippet consist of model training  for the Movie Lens data"
      ],
      "metadata": {
        "id": "2CL9xRnpqnie"
      }
    },
    {
      "cell_type": "code",
      "source": [
        "# Implementation specific to the movie lens dataset\n",
        "\n",
        "rating = ratings\n",
        "rating[\"rating\"] = rating[\"rating\"].values.astype(np.float32)\n",
        "\n",
        "min_rating = min(rating[\"rating\"])\n",
        "max_rating = max(rating[\"rating\"])\n",
        "\n",
        "# Creation of train and validation dataset\n",
        "data = rating.sample(frac=1, random_state=1)\n",
        "x = data[[\"user\",\"item\"]].values\n",
        "y = data[\"rating\"].apply(lambda x: (x - min_rating) / (max_rating - min_rating)).values\n",
        "#y = data[\"rating\"]\n",
        "\n",
        "\n",
        "train_indices = int(0.7 * data.shape[0])\n",
        "\n",
        "x_train, x_val, y_train, y_val = (x[:train_indices], x[train_indices:], y[:train_indices], y[train_indices:])\n",
        "\n",
        "print(x_train.shape)\n",
        "print(y_train.shape)\n",
        "print(x_val.shape)\n",
        "print(y_val.shape)"
      ],
      "metadata": {
        "colab": {
          "base_uri": "https://localhost:8080/"
        },
        "id": "wsUN8BAxqjzi",
        "outputId": "192dd9a5-54d9-46c5-a636-4e6c861c76b0"
      },
      "execution_count": null,
      "outputs": [
        {
          "output_type": "stream",
          "name": "stdout",
          "text": [
            "(70585, 2)\n",
            "(70585,)\n",
            "(30251, 2)\n",
            "(30251,)\n"
          ]
        }
      ]
    },
    {
      "cell_type": "code",
      "source": [
        "# Creation of training loop\n",
        "Embedding_size = [8, 16, 32, 64] \n",
        "\n",
        "\n",
        "movielens = {'val_loss':[]}\n",
        "for i in Embedding_size:\n",
        "  model = Recomm(num_users, num_items, i)\n",
        "  model.compile(loss = tf.keras.losses.BinaryCrossentropy(), optimizer=keras.optimizers.Adam(lr=0.001))\n",
        "  history = model.fit(\n",
        "    x=x_train,\n",
        "    y=y_train,\n",
        "    batch_size=64,\n",
        "    epochs=5,\n",
        "    verbose=1,\n",
        "    validation_data=(x_val, y_val)\n",
        "  )\n",
        "\n",
        "  movielens['val_loss'].append(history.history['val_loss'])\n"
      ],
      "metadata": {
        "colab": {
          "base_uri": "https://localhost:8080/"
        },
        "id": "y-05L2N6qwlt",
        "outputId": "18de99d8-50f8-43dc-9610-9add565f4a69"
      },
      "execution_count": null,
      "outputs": [
        {
          "output_type": "stream",
          "name": "stdout",
          "text": [
            "Epoch 1/5\n",
            "1103/1103 [==============================] - 4s 3ms/step - loss: 0.6615 - val_loss: 0.6323\n",
            "Epoch 2/5\n",
            "1103/1103 [==============================] - 3s 3ms/step - loss: 0.6130 - val_loss: 0.6065\n",
            "Epoch 3/5\n",
            "1103/1103 [==============================] - 3s 3ms/step - loss: 0.5962 - val_loss: 0.6010\n",
            "Epoch 4/5\n",
            "1103/1103 [==============================] - 3s 3ms/step - loss: 0.5890 - val_loss: 0.5991\n",
            "Epoch 5/5\n",
            "1103/1103 [==============================] - 3s 3ms/step - loss: 0.5844 - val_loss: 0.5985\n",
            "Epoch 1/5\n",
            "1103/1103 [==============================] - 6s 4ms/step - loss: 0.6602 - val_loss: 0.6279\n",
            "Epoch 2/5\n",
            "1103/1103 [==============================] - 5s 4ms/step - loss: 0.6086 - val_loss: 0.6044\n",
            "Epoch 3/5\n",
            "1103/1103 [==============================] - 4s 4ms/step - loss: 0.5925 - val_loss: 0.6001\n",
            "Epoch 4/5\n",
            "1103/1103 [==============================] - 5s 4ms/step - loss: 0.5845 - val_loss: 0.5987\n",
            "Epoch 5/5\n",
            "1103/1103 [==============================] - 5s 4ms/step - loss: 0.5781 - val_loss: 0.5984\n",
            "Epoch 1/5\n",
            "1103/1103 [==============================] - 6s 5ms/step - loss: 0.6589 - val_loss: 0.6224\n",
            "Epoch 2/5\n",
            "1103/1103 [==============================] - 6s 5ms/step - loss: 0.6042 - val_loss: 0.6027\n",
            "Epoch 3/5\n",
            "1103/1103 [==============================] - 6s 5ms/step - loss: 0.5870 - val_loss: 0.5993\n",
            "Epoch 4/5\n",
            "1103/1103 [==============================] - 6s 5ms/step - loss: 0.5758 - val_loss: 0.5990\n",
            "Epoch 5/5\n",
            "1103/1103 [==============================] - 5s 5ms/step - loss: 0.5663 - val_loss: 0.6000\n",
            "Epoch 1/5\n",
            "1103/1103 [==============================] - 9s 7ms/step - loss: 0.6571 - val_loss: 0.6173\n",
            "Epoch 2/5\n",
            "1103/1103 [==============================] - 9s 8ms/step - loss: 0.5999 - val_loss: 0.6016\n",
            "Epoch 3/5\n",
            "1103/1103 [==============================] - 8s 7ms/step - loss: 0.5792 - val_loss: 0.5996\n",
            "Epoch 4/5\n",
            "1103/1103 [==============================] - 9s 8ms/step - loss: 0.5630 - val_loss: 0.6004\n",
            "Epoch 5/5\n",
            "1103/1103 [==============================] - 14s 13ms/step - loss: 0.5506 - val_loss: 0.6030\n"
          ]
        }
      ]
    },
    {
      "cell_type": "code",
      "source": [
        "# 'new_output' is a dataframe with stacked validation losses fro different Embedding Dimensions\n",
        "# Plot of validation losses for Movie Lens dataset\n",
        "val_losses_data_movielens = pd.DataFrame(movielens)\n",
        "val_losses_data_movielens['Dim'] = Embedding_size\n",
        "val_losses_data_movielens.set_index(['Dim'])\n",
        "\n",
        "\n",
        "for i, v in val_losses_data_movielens.iterrows():\n",
        "  plt.plot(val_losses_data_movielens['val_loss'][i], '-o')\n",
        "plt.title('Model Loss for different dimensions for MovieLens Dataset')\n",
        "plt.ylabel('val_loss')\n",
        "plt.xlabel('epoch')\n",
        "plt.legend(val_losses_data_movielens['Dim'], loc='lower left')\n",
        "plt.show()"
      ],
      "metadata": {
        "colab": {
          "base_uri": "https://localhost:8080/",
          "height": 295
        },
        "id": "Te4dF4jXq_iZ",
        "outputId": "f7a0b416-72ae-477c-a470-a44b0de656f5"
      },
      "execution_count": null,
      "outputs": [
        {
          "output_type": "display_data",
          "data": {
            "text/plain": [
              "<Figure size 432x288 with 1 Axes>"
            ],
            "image/png": "[encoded data removed]"
          },
          "metadata": {
            "needs_background": "light"
          }
        }
      ]
    }
  ]
}