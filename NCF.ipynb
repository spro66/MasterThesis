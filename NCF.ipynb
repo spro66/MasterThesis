{
  "cells": [
    {
      "cell_type": "code",
      "execution_count": null,
      "metadata": {
        "colab": {
          "base_uri": "https://localhost:8080/"
        },
        "id": "6vuy068Ew8n5",
        "outputId": "07febe74-52c8-43f2-d194-e083926d4c3c"
      },
      "outputs": [
        {
          "output_type": "stream",
          "name": "stdout",
          "text": [
            "--2022-09-21 20:47:14--  http://files.grouplens.org/datasets/movielens/ml-latest-small.zip\n",
            "Resolving files.grouplens.org (files.grouplens.org)... 128.101.65.152\n",
            "Connecting to files.grouplens.org (files.grouplens.org)|128.101.65.152|:80... connected.\n",
            "HTTP request sent, awaiting response... 200 OK\n",
            "Length: 978202 (955K) [application/zip]\n",
            "Saving to: ‘ml-latest-small.zip’\n",
            "\n",
            "ml-latest-small.zip 100%[===================>] 955.28K  --.-KB/s    in 0.1s    \n",
            "\n",
            "2022-09-21 20:47:14 (6.59 MB/s) - ‘ml-latest-small.zip’ saved [978202/978202]\n",
            "\n",
            "Archive:  ml-latest-small.zip\n",
            "   creating: ml-latest-small/\n",
            "  inflating: ml-latest-small/links.csv  \n",
            "  inflating: ml-latest-small/tags.csv  \n",
            "  inflating: ml-latest-small/ratings.csv  \n",
            "  inflating: ml-latest-small/README.txt  \n",
            "  inflating: ml-latest-small/movies.csv  \n",
            "--2022-09-21 20:47:14--  http://www2.informatik.uni-freiburg.de/~cziegler/BX/BX-CSV-Dump.zip\n",
            "Resolving www2.informatik.uni-freiburg.de (www2.informatik.uni-freiburg.de)... 132.230.105.133\n",
            "Connecting to www2.informatik.uni-freiburg.de (www2.informatik.uni-freiburg.de)|132.230.105.133|:80... connected.\n",
            "HTTP request sent, awaiting response... 200 OK\n",
            "Length: 26085508 (25M) [application/zip]\n",
            "Saving to: ‘BX-CSV-Dump.zip’\n",
            "\n",
            "BX-CSV-Dump.zip     100%[===================>]  24.88M  17.8MB/s    in 1.4s    \n",
            "\n",
            "2022-09-21 20:47:16 (17.8 MB/s) - ‘BX-CSV-Dump.zip’ saved [26085508/26085508]\n",
            "\n",
            "Archive:  BX-CSV-Dump.zip\n",
            "  inflating: BX-Book-Ratings.csv     \n",
            "  inflating: BX-Books.csv            \n",
            "  inflating: BX-Users.csv            \n"
          ]
        }
      ],
      "source": [
        "# Downloading the movielens datasets and Book-Crossing Dataset\n",
        "\n",
        "# Movielens Dataset\n",
        "!wget http://files.grouplens.org/datasets/movielens/ml-latest-small.zip\n",
        "!unzip ml-latest-small.zip\n",
        "# Book-Crossing Dataset\n",
        "!wget http://www2.informatik.uni-freiburg.de/~cziegler/BX/BX-CSV-Dump.zip\n",
        "!unzip BX-CSV-Dump.zip"
      ]
    },
    {
      "cell_type": "code",
      "execution_count": null,
      "metadata": {
        "id": "X8iEuxC44KU-"
      },
      "outputs": [],
      "source": [
        "# Importing reuired packages\n",
        "import pandas as pd\n",
        "import numpy as np\n",
        "import tensorflow as tf\n",
        "import torch\n",
        "from tensorflow import keras\n",
        "from tensorflow.keras import layers\n",
        "from keras.models import Model\n",
        "from keras.layers import Dense, Dropout, merge\n",
        "import pickle\n",
        "import matplotlib.pyplot as plt\n",
        "%matplotlib inline"
      ]
    },
    {
      "cell_type": "code",
      "execution_count": null,
      "metadata": {
        "id": "RgPwL4E14N7v"
      },
      "outputs": [],
      "source": [
        "# Reading required files\n",
        "ratings = pd.read_csv(\"ml-latest-small/ratings.csv\")\n",
        "movies = pd.read_csv(\"ml-latest-small/movies.csv\")\n",
        "book_rating_data = pd.read_csv(\"BX-Book-Ratings.csv\", encoding='latin1', sep=';')"
      ]
    },
    {
      "cell_type": "code",
      "execution_count": null,
      "metadata": {
        "colab": {
          "base_uri": "https://localhost:8080/"
        },
        "id": "IAR0MWhI4Qwo",
        "outputId": "993b601d-3bbb-451c-c6e8-8ee0a6b458d2"
      },
      "outputs": [
        {
          "output_type": "stream",
          "name": "stdout",
          "text": [
            "   userId  movieId  rating  timestamp\n",
            "0       1        1     4.0  964982703\n",
            "1       1        3     4.0  964981247\n",
            "2       1        6     4.0  964982224\n",
            "3       1       47     5.0  964983815\n",
            "4       1       50     5.0  964982931\n",
            "   movieId                               title  \\\n",
            "0        1                    Toy Story (1995)   \n",
            "1        2                      Jumanji (1995)   \n",
            "2        3             Grumpier Old Men (1995)   \n",
            "3        4            Waiting to Exhale (1995)   \n",
            "4        5  Father of the Bride Part II (1995)   \n",
            "\n",
            "                                        genres  \n",
            "0  Adventure|Animation|Children|Comedy|Fantasy  \n",
            "1                   Adventure|Children|Fantasy  \n",
            "2                               Comedy|Romance  \n",
            "3                         Comedy|Drama|Romance  \n",
            "4                                       Comedy  \n",
            "   User-ID        ISBN  Book-Rating\n",
            "0   276725  034545104X            0\n",
            "1   276726  0155061224            5\n",
            "2   276727  0446520802            0\n",
            "3   276729  052165615X            3\n",
            "4   276729  0521795028            6\n"
          ]
        }
      ],
      "source": [
        "# Snapshot of the loaded dataset\n",
        "print(ratings.head())\n",
        "print(movies.head())\n",
        "print(book_rating_data.head())"
      ]
    },
    {
      "cell_type": "code",
      "execution_count": null,
      "metadata": {
        "id": "j9gs5BNY5ffi"
      },
      "outputs": [],
      "source": [
        "# Function to create index on the basis of user-id and item-id\n",
        "def user_item_index(col):\n",
        "  user_item_ids = col.unique().tolist()\n",
        "  user_item_idx = {x: i for i, x in enumerate(user_item_ids)}\n",
        "  idx_user_item = {i: x for i, x in enumerate(user_item_ids)}\n",
        "  return user_item_idx"
      ]
    },
    {
      "cell_type": "code",
      "execution_count": null,
      "metadata": {
        "id": "j7x87u6N5imp"
      },
      "outputs": [],
      "source": [
        "# Implementing the indexing function on user-id and item-id\n",
        "ratings[\"user\"] = ratings[\"userId\"].map(user_item_index(ratings[\"userId\"]))\n",
        "ratings[\"item\"] = ratings[\"movieId\"].map(user_item_index(ratings[\"movieId\"]))\n",
        "\n",
        "\n",
        "book_rating_data[\"user\"] = book_rating_data[\"User-ID\"].map(user_item_index(book_rating_data[\"User-ID\"]))\n",
        "book_rating_data[\"item\"] = book_rating_data[\"ISBN\"].map(user_item_index(book_rating_data[\"ISBN\"]))\n",
        "book_rating_data.rename(columns = {'Book-Rating':'rating'}, inplace=True)"
      ]
    },
    {
      "cell_type": "code",
      "execution_count": null,
      "metadata": {
        "colab": {
          "base_uri": "https://localhost:8080/"
        },
        "id": "QrGwI_0N5lCv",
        "outputId": "66cec743-e1dc-400e-849d-99836326b881"
      },
      "outputs": [
        {
          "output_type": "stream",
          "name": "stdout",
          "text": [
            "   userId  movieId  rating  timestamp  user  item\n",
            "0       1        1     4.0  964982703     0     0\n",
            "1       1        3     4.0  964981247     0     1\n",
            "2       1        6     4.0  964982224     0     2\n",
            "3       1       47     5.0  964983815     0     3\n",
            "4       1       50     5.0  964982931     0     4\n",
            "   User-ID        ISBN  rating  user  item\n",
            "0   276725  034545104X       0     0     0\n",
            "1   276726  0155061224       5     1     1\n",
            "2   276727  0446520802       0     2     2\n",
            "3   276729  052165615X       3     3     3\n",
            "4   276729  0521795028       6     3     4\n"
          ]
        }
      ],
      "source": [
        "print(ratings.head())\n",
        "print(book_rating_data.head())"
      ]
    },
    {
      "cell_type": "code",
      "execution_count": null,
      "metadata": {
        "colab": {
          "base_uri": "https://localhost:8080/"
        },
        "id": "8_Y0rnuf5o_Q",
        "outputId": "5c725346-0ebd-4423-d151-c9e88f8c5b3b"
      },
      "outputs": [
        {
          "output_type": "stream",
          "name": "stdout",
          "text": [
            "610\n",
            "9724\n",
            "105283\n",
            "340556\n"
          ]
        }
      ],
      "source": [
        "num_users = len(ratings[\"userId\"].unique().tolist())\n",
        "num_items = len(ratings[\"movieId\"].unique().tolist())\n",
        "\n",
        "br_num_users = len(book_rating_data[\"User-ID\"].unique().tolist())\n",
        "br_num_items = len(book_rating_data[\"ISBN\"].unique().tolist())\n",
        "\n",
        "\n",
        "print(num_users)\n",
        "print(num_items)\n",
        "print(br_num_users)\n",
        "print(br_num_items)"
      ]
    },
    {
      "cell_type": "markdown",
      "metadata": {
        "id": "uIzqSaAhkmNQ"
      },
      "source": [
        "#**Implementing GMF (Element-wise product)**"
      ]
    },
    {
      "cell_type": "code",
      "execution_count": null,
      "metadata": {
        "colab": {
          "base_uri": "https://localhost:8080/"
        },
        "id": "BC6JX3h_jGVp",
        "outputId": "cdd986c1-eed6-4774-e190-076d7d1b1d5e"
      },
      "outputs": [
        {
          "output_type": "stream",
          "name": "stdout",
          "text": [
            "(70585, 2)\n",
            "(70585,)\n",
            "(30251, 2)\n",
            "(30251,)\n"
          ]
        }
      ],
      "source": [
        "# Change the dataset name as per the interest - movielens dataset > ratings, book rating dataset > book_rating_data\n",
        "\n",
        "rating = ratings  #Change it to different dataset accordingly\n",
        "rating[\"rating\"] = rating[\"rating\"].values.astype(np.float32)\n",
        "\n",
        "min_rating = min(rating[\"rating\"])\n",
        "max_rating = max(rating[\"rating\"])\n",
        "\n",
        "# Creation of train and validation dataset\n",
        "data = rating.sample(frac=1, random_state=1)\n",
        "x = data[[\"user\",\"item\"]].values\n",
        "y = data[\"rating\"].apply(lambda x: (x - min_rating) / (max_rating - min_rating)).values\n",
        "#y = data[\"rating\"]\n",
        "\n",
        "\n",
        "train_indices = int(0.7 * data.shape[0])\n",
        "\n",
        "x_train, x_val, y_train, y_val = (x[:train_indices], x[train_indices:], y[:train_indices], y[train_indices:])\n",
        "\n",
        "print(x_train.shape)\n",
        "print(y_train.shape)\n",
        "print(x_val.shape)\n",
        "print(y_val.shape)"
      ]
    },
    {
      "cell_type": "code",
      "execution_count": null,
      "metadata": {
        "id": "03wSIy0C8Ubc"
      },
      "outputs": [],
      "source": [
        "# Model creation using Generalized Matrix Factorisation Methodology\n",
        "class GMF(keras.Model):\n",
        "  def __init__(self, num_users, num_items, embedding_size, **kwargs):\n",
        "    super(GMF, self).__init__(**kwargs)\n",
        "    self.num_users = num_users\n",
        "    self.num_items = num_items\n",
        "    self.embedding_size = embedding_size\n",
        "    self.user_embed = layers.Embedding(\n",
        "        num_users,\n",
        "        embedding_size,\n",
        "        embeddings_initializer=\"uniform\",\n",
        "        embeddings_regularizer=keras.regularizers.l2(1e-6)\n",
        "    )\n",
        "    self.user_bias = layers.Embedding(num_users, 1)\n",
        "    self.item_embed = layers.Embedding(\n",
        "        num_items,\n",
        "        embedding_size,\n",
        "        embeddings_initializer=\"uniform\",\n",
        "        embeddings_regularizer=keras.regularizers.l2(1e-6)\n",
        "    )\n",
        "    self.item_bias = layers.Embedding(num_items, 1)\n",
        "    self.output_layer = Dense(1, activation='sigmoid')\n",
        "\n",
        "\n",
        "\n",
        "  def call(self, inputs):\n",
        "    user_vector = self.user_embed(inputs[:,0])\n",
        "    user_bias = self.user_bias(inputs[:,0])\n",
        "    item_vector = self.item_embed(inputs[:,1])\n",
        "    item_bias = self.item_bias(inputs[:,1])\n",
        "    user_item_interaction = user_vector * item_vector\n",
        "    final_input = user_item_interaction + user_bias + item_bias\n",
        "    final_output = self.output_layer(final_input)\n",
        "\n",
        "\n",
        "    return final_output"
      ]
    },
    {
      "cell_type": "code",
      "execution_count": null,
      "metadata": {
        "colab": {
          "base_uri": "https://localhost:8080/"
        },
        "id": "E19-RLXBlJc6",
        "outputId": "661947b8-c78c-4caf-b93a-bfd5bbaeb983"
      },
      "outputs": [
        {
          "name": "stdout",
          "output_type": "stream",
          "text": [
            "Epoch 1/5\n",
            "552/552 [==============================] - 3s 4ms/step - loss: 0.6929 - val_loss: 0.6926\n",
            "Epoch 2/5\n",
            "552/552 [==============================] - 2s 4ms/step - loss: 0.6925 - val_loss: 0.6923\n",
            "Epoch 3/5\n",
            "552/552 [==============================] - 2s 4ms/step - loss: 0.6922 - val_loss: 0.6920\n",
            "Epoch 4/5\n",
            "552/552 [==============================] - 2s 4ms/step - loss: 0.6920 - val_loss: 0.6918\n",
            "Epoch 5/5\n",
            "552/552 [==============================] - 2s 4ms/step - loss: 0.6918 - val_loss: 0.6917\n",
            "Epoch 1/5\n",
            "552/552 [==============================] - 3s 4ms/step - loss: 0.6943 - val_loss: 0.6941\n",
            "Epoch 2/5\n",
            "552/552 [==============================] - 2s 4ms/step - loss: 0.6938 - val_loss: 0.6937\n",
            "Epoch 3/5\n",
            "552/552 [==============================] - 2s 4ms/step - loss: 0.6934 - val_loss: 0.6933\n",
            "Epoch 4/5\n",
            "552/552 [==============================] - 2s 4ms/step - loss: 0.6931 - val_loss: 0.6930\n",
            "Epoch 5/5\n",
            "552/552 [==============================] - 2s 4ms/step - loss: 0.6928 - val_loss: 0.6928\n",
            "Epoch 1/5\n",
            "552/552 [==============================] - 3s 4ms/step - loss: 0.6930 - val_loss: 0.6927\n",
            "Epoch 2/5\n",
            "552/552 [==============================] - 2s 4ms/step - loss: 0.6925 - val_loss: 0.6924\n",
            "Epoch 3/5\n",
            "552/552 [==============================] - 2s 4ms/step - loss: 0.6923 - val_loss: 0.6921\n",
            "Epoch 4/5\n",
            "552/552 [==============================] - 2s 4ms/step - loss: 0.6920 - val_loss: 0.6919\n",
            "Epoch 5/5\n",
            "552/552 [==============================] - 2s 4ms/step - loss: 0.6918 - val_loss: 0.6918\n",
            "Epoch 1/5\n",
            "552/552 [==============================] - 3s 5ms/step - loss: 0.6933 - val_loss: 0.6931\n",
            "Epoch 2/5\n",
            "552/552 [==============================] - 3s 5ms/step - loss: 0.6929 - val_loss: 0.6927\n",
            "Epoch 3/5\n",
            "552/552 [==============================] - 2s 4ms/step - loss: 0.6926 - val_loss: 0.6925\n",
            "Epoch 4/5\n",
            "552/552 [==============================] - 2s 4ms/step - loss: 0.6924 - val_loss: 0.6923\n",
            "Epoch 5/5\n",
            "552/552 [==============================] - 2s 4ms/step - loss: 0.6922 - val_loss: 0.6921\n"
          ]
        }
      ],
      "source": [
        "# Creating training loop for the purpose of training the model\n",
        "\n",
        "Embedding_size = [8, 16, 32, 64] \n",
        "\n",
        "\n",
        "new = {'val_loss':[]}\n",
        "for i in Embedding_size:\n",
        "  model = GMF(num_users, num_items, i)\n",
        "  model.compile(loss = tf.keras.losses.BinaryCrossentropy(), optimizer=keras.optimizers.Adagrad(lr=0.0001))\n",
        "  history = model.fit(\n",
        "    x=x_train,\n",
        "    y=y_train,\n",
        "    batch_size=128,\n",
        "    epochs=5,\n",
        "    verbose=1,\n",
        "    validation_data=(x_val, y_val)\n",
        "  )\n",
        "\n",
        "  new['val_loss'].append(history.history['val_loss'])"
      ]
    },
    {
      "cell_type": "code",
      "execution_count": null,
      "metadata": {
        "colab": {
          "base_uri": "https://localhost:8080/",
          "height": 295
        },
        "id": "z5lELqsXVmze",
        "outputId": "2949b398-055e-47d6-f76f-90f26a8c11ed"
      },
      "outputs": [
        {
          "data": {
            "image/png": "[encoded data removed]",
            "text/plain": [
              "<Figure size 432x288 with 1 Axes>"
            ]
          },
          "metadata": {},
          "output_type": "display_data"
        }
      ],
      "source": [
        "# 'new_output' is a dataframe with stacked validation losses fro different Embedding Dimensions\n",
        "val_losses_data_ML = pd.DataFrame(new)\n",
        "val_losses_data_ML['Dim'] = Embedding_size\n",
        "val_losses_data_ML.set_index(['Dim'])\n",
        "\n",
        "\n",
        "for i, v in val_losses_data_ML.iterrows():\n",
        "  plt.plot(val_losses_data_ML['val_loss'][i], '-o')\n",
        "plt.title('Model Loss for different dimensions for MovieLens Data - GMF')\n",
        "plt.ylabel('val_loss')\n",
        "plt.xlabel('epoch')\n",
        "plt.legend(val_losses_data_ML['Dim'], loc='lower left')\n",
        "plt.show()"
      ]
    },
    {
      "cell_type": "markdown",
      "metadata": {
        "id": "jXNdJL4Yj7kI"
      },
      "source": [
        "GMF for Book Rating Dataset"
      ]
    },
    {
      "cell_type": "code",
      "execution_count": null,
      "metadata": {
        "colab": {
          "base_uri": "https://localhost:8080/"
        },
        "id": "oXRvEVw1j6-c",
        "outputId": "d2013c94-7ba9-42c1-c387-da33f5e4be2b"
      },
      "outputs": [
        {
          "name": "stderr",
          "output_type": "stream",
          "text": [
            "/usr/local/lib/python3.7/dist-packages/keras/optimizer_v2/adagrad.py:74: UserWarning: The `lr` argument is deprecated, use `learning_rate` instead.\n",
            "  super(Adagrad, self).__init__(name, **kwargs)\n"
          ]
        },
        {
          "name": "stdout",
          "output_type": "stream",
          "text": [
            "Epoch 1/5\n",
            "276/276 [==============================] - 8s 5ms/step - loss: 0.6973 - val_loss: 0.6971\n",
            "Epoch 2/5\n",
            "276/276 [==============================] - 1s 5ms/step - loss: 0.6969 - val_loss: 0.6968\n",
            "Epoch 3/5\n",
            "276/276 [==============================] - 1s 5ms/step - loss: 0.6966 - val_loss: 0.6965\n",
            "Epoch 4/5\n",
            "276/276 [==============================] - 1s 5ms/step - loss: 0.6963 - val_loss: 0.6963\n",
            "Epoch 5/5\n",
            "276/276 [==============================] - 1s 5ms/step - loss: 0.6961 - val_loss: 0.6961\n",
            "Epoch 1/5\n",
            "276/276 [==============================] - 3s 7ms/step - loss: 0.6988 - val_loss: 0.6986\n",
            "Epoch 2/5\n",
            "276/276 [==============================] - 2s 6ms/step - loss: 0.6985 - val_loss: 0.6984\n",
            "Epoch 3/5\n",
            "276/276 [==============================] - 2s 7ms/step - loss: 0.6983 - val_loss: 0.6982\n",
            "Epoch 4/5\n",
            "276/276 [==============================] - 2s 6ms/step - loss: 0.6981 - val_loss: 0.6981\n",
            "Epoch 5/5\n",
            "276/276 [==============================] - 2s 7ms/step - loss: 0.6980 - val_loss: 0.6979\n",
            "Epoch 1/5\n",
            "276/276 [==============================] - 4s 11ms/step - loss: 0.7061 - val_loss: 0.7060\n",
            "Epoch 2/5\n",
            "276/276 [==============================] - 3s 10ms/step - loss: 0.7057 - val_loss: 0.7056\n",
            "Epoch 3/5\n",
            "276/276 [==============================] - 3s 11ms/step - loss: 0.7053 - val_loss: 0.7053\n",
            "Epoch 4/5\n",
            "276/276 [==============================] - 3s 10ms/step - loss: 0.7050 - val_loss: 0.7050\n",
            "Epoch 5/5\n",
            "276/276 [==============================] - 3s 10ms/step - loss: 0.7047 - val_loss: 0.7047\n",
            "Epoch 1/5\n",
            "276/276 [==============================] - 5s 17ms/step - loss: 0.7175 - val_loss: 0.7172\n",
            "Epoch 2/5\n",
            "276/276 [==============================] - 4s 16ms/step - loss: 0.7172 - val_loss: 0.7169\n",
            "Epoch 3/5\n",
            "276/276 [==============================] - 5s 17ms/step - loss: 0.7169 - val_loss: 0.7167\n",
            "Epoch 4/5\n",
            "276/276 [==============================] - 5s 18ms/step - loss: 0.7167 - val_loss: 0.7165\n",
            "Epoch 5/5\n",
            "276/276 [==============================] - 4s 16ms/step - loss: 0.7166 - val_loss: 0.7164\n"
          ]
        }
      ],
      "source": [
        "Embedding_size = [8, 16, 32, 64] \n",
        "\n",
        "\n",
        "new = {'val_loss':[]}\n",
        "for i in Embedding_size:\n",
        "  model = GMF(br_num_users, br_num_items, i)\n",
        "  model.compile(loss = tf.keras.losses.BinaryCrossentropy(), optimizer=keras.optimizers.Adagrad(lr=0.0001))\n",
        "  history = model.fit(\n",
        "    x=x_train,\n",
        "    y=y_train,\n",
        "    batch_size=256,\n",
        "    epochs=5,\n",
        "    verbose=1,\n",
        "    validation_data=(x_val, y_val)\n",
        "  )\n",
        "\n",
        "  new['val_loss'].append(history.history['val_loss'])"
      ]
    },
    {
      "cell_type": "code",
      "execution_count": null,
      "metadata": {
        "colab": {
          "base_uri": "https://localhost:8080/",
          "height": 295
        },
        "id": "PaYNRrH2J4WB",
        "outputId": "ea35e4b4-bebf-4d9e-a0aa-b05064944f2c"
      },
      "outputs": [
        {
          "data": {
            "image/png": "[encoded data removed]",
            "text/plain": [
              "<Figure size 432x288 with 1 Axes>"
            ]
          },
          "metadata": {},
          "output_type": "display_data"
        }
      ],
      "source": [
        "# 'new_output' is a dataframe with stacked validation losses fro different Embedding Dimensions\n",
        "val_losses_data_ML = pd.DataFrame(new)\n",
        "val_losses_data_ML['Dim'] = Embedding_size\n",
        "val_losses_data_ML.set_index(['Dim'])\n",
        "\n",
        "\n",
        "for i, v in val_losses_data_ML.iterrows():\n",
        "  plt.plot(val_losses_data_ML['val_loss'][i], '-o')\n",
        "plt.title('Model Loss for different dimensions for Book Rating Data - GMF')\n",
        "plt.ylabel('val_loss')\n",
        "plt.xlabel('epoch')\n",
        "plt.legend(val_losses_data_ML['Dim'], loc='lower left')\n",
        "plt.show()"
      ]
    },
    {
      "cell_type": "code",
      "execution_count": null,
      "metadata": {
        "id": "UokQGLGyW-mA"
      },
      "outputs": [],
      "source": []
    },
    {
      "cell_type": "code",
      "execution_count": null,
      "metadata": {
        "id": "NuMwhVlLW-iO"
      },
      "outputs": [],
      "source": []
    },
    {
      "cell_type": "code",
      "execution_count": null,
      "metadata": {
        "id": "NCHdMwLsW-dz"
      },
      "outputs": [],
      "source": []
    },
    {
      "cell_type": "markdown",
      "metadata": {
        "id": "BRgPhLOKyLoN"
      },
      "source": [
        "# **MLP - Multi Layer Perceptron (NCL-II)** "
      ]
    },
    {
      "cell_type": "code",
      "execution_count": null,
      "metadata": {
        "colab": {
          "base_uri": "https://localhost:8080/"
        },
        "id": "6BSC1Ad3Qilq",
        "outputId": "b2e1e0cb-c777-4e5a-aa2c-604259ea28a8"
      },
      "outputs": [
        {
          "output_type": "stream",
          "name": "stdout",
          "text": [
            "(804846, 2)\n",
            "(804846,)\n",
            "(344934, 2)\n",
            "(344934,)\n"
          ]
        }
      ],
      "source": [
        "# Change the dataset name as per the interest - movielens dataset > ratings, book rating dataset > book_rating_data\n",
        "\n",
        "rating = book_rating_data  #Change it to different dataset accordingly\n",
        "rating[\"rating\"] = rating[\"rating\"].values.astype(np.float32)\n",
        "\n",
        "min_rating = min(rating[\"rating\"])\n",
        "max_rating = max(rating[\"rating\"])\n",
        "\n",
        "# Creation of train and validation dataset\n",
        "data = rating.sample(frac=1, random_state=1)\n",
        "x = data[[\"user\",\"item\"]].values\n",
        "y = data[\"rating\"].apply(lambda x: (x - min_rating) / (max_rating - min_rating)).values\n",
        "#y = data[\"rating\"]\n",
        "\n",
        "\n",
        "train_indices = int(0.7 * data.shape[0])\n",
        "\n",
        "x_train, x_val, y_train, y_val = (x[:train_indices], x[train_indices:], y[:train_indices], y[train_indices:])\n",
        "\n",
        "print(x_train.shape)\n",
        "print(y_train.shape)\n",
        "print(x_val.shape)\n",
        "print(y_val.shape)"
      ]
    },
    {
      "cell_type": "code",
      "execution_count": null,
      "metadata": {
        "id": "FGV5Hg3uW-ZT"
      },
      "outputs": [],
      "source": [
        "# Model creation using Multi-Layer Perceptron Methodology\n",
        "class MLP(keras.Model):\n",
        "  def __init__(self, num_users, num_items, embedding_size, **kwargs):\n",
        "    super(MLP, self).__init__(**kwargs)\n",
        "    self.num_users = num_users\n",
        "    self.num_items = num_items\n",
        "    self.embedding_size = embedding_size\n",
        "    self.user_embed = layers.Embedding(\n",
        "        num_users,\n",
        "        embedding_size,\n",
        "        embeddings_initializer=\"uniform\",\n",
        "        embeddings_regularizer=keras.regularizers.l2(1e-6)\n",
        "    )\n",
        "    self.user_bias = layers.Embedding(num_users, 1)\n",
        "    self.item_embed = layers.Embedding(\n",
        "        num_items,\n",
        "        embedding_size,\n",
        "        embeddings_initializer=\"uniform\",\n",
        "        embeddings_regularizer=keras.regularizers.l2(1e-6)\n",
        "    )\n",
        "    self.item_bias = layers.Embedding(num_items, 1)\n",
        "    self.layer1 = Dense(256, activation='relu')\n",
        "    #self.layer_d1 = Dropout(0.3)\n",
        "    self.layer2 = Dense(128, activation='relu')\n",
        "    #self.layer3 = Dense(64, activation='relu')\n",
        "    #self.layer_d2 = Dropout(0.2)\n",
        "    self.layer4 = Dense(64, activation='relu')\n",
        "    self.output_layer = Dense(1, activation='sigmoid')\n",
        "\n",
        "\n",
        "\n",
        "  def call(self, inputs):\n",
        "    user_vector = self.user_embed(inputs[:,0])\n",
        "    user_bias = self.user_bias(inputs[:,0])\n",
        "    item_vector = self.item_embed(inputs[:,1])\n",
        "    item_bias = self.item_bias(inputs[:,1])\n",
        "    user_item_interaction = layers.Concatenate()([user_vector ,item_vector])\n",
        "    final_input = user_item_interaction + user_bias + item_bias\n",
        "    out1 = self.layer1(final_input)\n",
        "    #d1 = self.layer_d1(out1)\n",
        "    out2 = self.layer2(out1)\n",
        "    #d2 = self.layer_d2(out2)\n",
        "    #out3 = self.layer3(out2)\n",
        "    out4 = self.layer4(out2)\n",
        "    final_output = self.output_layer(out4)\n",
        "\n",
        "    #x = new #+ user_bias + item_bias\n",
        "    return final_output"
      ]
    },
    {
      "cell_type": "code",
      "execution_count": null,
      "metadata": {
        "colab": {
          "base_uri": "https://localhost:8080/"
        },
        "id": "F7As4Svk5lYe",
        "outputId": "78670168-f185-4d92-d6fa-2add84e36049"
      },
      "outputs": [
        {
          "output_type": "stream",
          "name": "stdout",
          "text": [
            "Epoch 1/5\n"
          ]
        },
        {
          "output_type": "stream",
          "name": "stderr",
          "text": [
            "/usr/local/lib/python3.7/dist-packages/keras/optimizer_v2/adagrad.py:74: UserWarning: The `lr` argument is deprecated, use `learning_rate` instead.\n",
            "  super(Adagrad, self).__init__(name, **kwargs)\n"
          ]
        },
        {
          "output_type": "stream",
          "name": "stdout",
          "text": [
            "552/552 [==============================] - 3s 5ms/step - loss: 0.6920 - val_loss: 0.6907\n",
            "Epoch 2/5\n",
            "552/552 [==============================] - 3s 5ms/step - loss: 0.6896 - val_loss: 0.6887\n",
            "Epoch 3/5\n",
            "552/552 [==============================] - 2s 4ms/step - loss: 0.6879 - val_loss: 0.6870\n",
            "Epoch 4/5\n",
            "552/552 [==============================] - 3s 5ms/step - loss: 0.6861 - val_loss: 0.6853\n",
            "Epoch 5/5\n",
            "552/552 [==============================] - 2s 4ms/step - loss: 0.6844 - val_loss: 0.6836\n",
            "Epoch 1/5\n",
            "552/552 [==============================] - 3s 5ms/step - loss: 0.6922 - val_loss: 0.6906\n",
            "Epoch 2/5\n",
            "552/552 [==============================] - 2s 4ms/step - loss: 0.6893 - val_loss: 0.6881\n",
            "Epoch 3/5\n",
            "552/552 [==============================] - 3s 5ms/step - loss: 0.6869 - val_loss: 0.6858\n",
            "Epoch 4/5\n",
            "552/552 [==============================] - 2s 4ms/step - loss: 0.6846 - val_loss: 0.6836\n",
            "Epoch 5/5\n",
            "552/552 [==============================] - 2s 4ms/step - loss: 0.6825 - val_loss: 0.6816\n",
            "Epoch 1/5\n",
            "552/552 [==============================] - 3s 5ms/step - loss: 0.6905 - val_loss: 0.6888\n",
            "Epoch 2/5\n",
            "552/552 [==============================] - 3s 5ms/step - loss: 0.6873 - val_loss: 0.6859\n",
            "Epoch 3/5\n",
            "552/552 [==============================] - 3s 5ms/step - loss: 0.6846 - val_loss: 0.6833\n",
            "Epoch 4/5\n",
            "552/552 [==============================] - 3s 5ms/step - loss: 0.6820 - val_loss: 0.6809\n",
            "Epoch 5/5\n",
            "552/552 [==============================] - 3s 5ms/step - loss: 0.6797 - val_loss: 0.6787\n",
            "Epoch 1/5\n",
            "552/552 [==============================] - 3s 5ms/step - loss: 0.6895 - val_loss: 0.6875\n",
            "Epoch 2/5\n",
            "552/552 [==============================] - 2s 4ms/step - loss: 0.6858 - val_loss: 0.6843\n",
            "Epoch 3/5\n",
            "552/552 [==============================] - 3s 5ms/step - loss: 0.6828 - val_loss: 0.6816\n",
            "Epoch 4/5\n",
            "552/552 [==============================] - 3s 5ms/step - loss: 0.6803 - val_loss: 0.6793\n",
            "Epoch 5/5\n",
            "552/552 [==============================] - 3s 5ms/step - loss: 0.6780 - val_loss: 0.6771\n"
          ]
        }
      ],
      "source": [
        "# Training loop\n",
        "\n",
        "Embedding_size = [8, 16, 32, 64] \n",
        "\n",
        "\n",
        "new = {'val_loss':[]}\n",
        "for i in Embedding_size:\n",
        "  model = MLP(num_users, num_items, i)\n",
        "  model.compile(loss = tf.keras.losses.BinaryCrossentropy(), optimizer=keras.optimizers.Adagrad(lr=0.0001))\n",
        "  history = model.fit(\n",
        "    x=x_train,\n",
        "    y=y_train,\n",
        "    batch_size=128,\n",
        "    epochs=5,\n",
        "    verbose=1,\n",
        "    validation_data=(x_val, y_val)\n",
        "  )\n",
        "\n",
        "  new['val_loss'].append(history.history['val_loss'])"
      ]
    },
    {
      "cell_type": "code",
      "execution_count": null,
      "metadata": {
        "colab": {
          "base_uri": "https://localhost:8080/",
          "height": 295
        },
        "id": "uya-qPBRW-WG",
        "outputId": "b320183f-0fe0-458b-c5e4-7924985837db"
      },
      "outputs": [
        {
          "output_type": "display_data",
          "data": {
            "text/plain": [
              "<Figure size 432x288 with 1 Axes>"
            ],
            "image/png": "[encoded data removed]"
          },
          "metadata": {
            "needs_background": "light"
          }
        }
      ],
      "source": [
        "# 'new_output' is a dataframe with stacked validation losses fro different Embedding Dimensions\n",
        "val_losses_data_ML = pd.DataFrame(new)\n",
        "val_losses_data_ML['Dim'] = Embedding_size\n",
        "val_losses_data_ML.set_index(['Dim'])\n",
        "\n",
        "\n",
        "for i, v in val_losses_data_ML.iterrows():\n",
        "  plt.plot(val_losses_data_ML['val_loss'][i], '-o')\n",
        "plt.title('Model Loss for different dimensions for MovieLenes Rating Data - MLP')\n",
        "plt.ylabel('val_loss')\n",
        "plt.xlabel('epoch')\n",
        "plt.legend(val_losses_data_ML['Dim'], loc='lower left')\n",
        "plt.show()"
      ]
    },
    {
      "cell_type": "code",
      "execution_count": null,
      "metadata": {
        "colab": {
          "base_uri": "https://localhost:8080/"
        },
        "id": "BTmcAsJ4VxtW",
        "outputId": "480d13cf-e89d-40b5-d5d8-d4c95d4dea7f"
      },
      "outputs": [
        {
          "output_type": "stream",
          "name": "stdout",
          "text": [
            "Epoch 1/5\n",
            "6288/6288 [==============================] - 32s 5ms/step - loss: 0.6804 - val_loss: 0.6676\n",
            "Epoch 2/5\n",
            "6288/6288 [==============================] - 32s 5ms/step - loss: 0.6581 - val_loss: 0.6492\n",
            "Epoch 3/5\n",
            "6288/6288 [==============================] - 31s 5ms/step - loss: 0.6418 - val_loss: 0.6345\n",
            "Epoch 4/5\n",
            "6288/6288 [==============================] - 31s 5ms/step - loss: 0.6287 - val_loss: 0.6229\n",
            "Epoch 5/5\n",
            "6288/6288 [==============================] - 32s 5ms/step - loss: 0.6187 - val_loss: 0.6144\n",
            "Epoch 1/5\n",
            "6288/6288 [==============================] - 47s 7ms/step - loss: 0.6730 - val_loss: 0.6570\n",
            "Epoch 2/5\n",
            "6288/6288 [==============================] - 42s 7ms/step - loss: 0.6459 - val_loss: 0.6357\n",
            "Epoch 3/5\n",
            "6288/6288 [==============================] - 47s 7ms/step - loss: 0.6283 - val_loss: 0.6214\n",
            "Epoch 4/5\n",
            "6288/6288 [==============================] - 42s 7ms/step - loss: 0.6170 - val_loss: 0.6129\n",
            "Epoch 5/5\n",
            "6288/6288 [==============================] - 47s 7ms/step - loss: 0.6107 - val_loss: 0.6084\n",
            "Epoch 1/5\n",
            "6288/6288 [==============================] - 67s 10ms/step - loss: 0.6882 - val_loss: 0.6746\n",
            "Epoch 2/5\n",
            "6288/6288 [==============================] - 63s 10ms/step - loss: 0.6640 - val_loss: 0.6540\n",
            "Epoch 3/5\n",
            "6288/6288 [==============================] - 65s 10ms/step - loss: 0.6459 - val_loss: 0.6382\n",
            "Epoch 4/5\n",
            "6288/6288 [==============================] - 62s 10ms/step - loss: 0.6324 - val_loss: 0.6267\n",
            "Epoch 5/5\n",
            "6288/6288 [==============================] - 66s 11ms/step - loss: 0.6229 - val_loss: 0.6191\n",
            "Epoch 1/5\n",
            "6288/6288 [==============================] - 105s 17ms/step - loss: 0.7062 - val_loss: 0.6953\n",
            "Epoch 2/5\n",
            "6288/6288 [==============================] - 104s 17ms/step - loss: 0.6866 - val_loss: 0.6782\n",
            "Epoch 3/5\n",
            "6288/6288 [==============================] - 114s 18ms/step - loss: 0.6707 - val_loss: 0.6631\n",
            "Epoch 4/5\n",
            "6288/6288 [==============================] - 103s 16ms/step - loss: 0.6567 - val_loss: 0.6502\n",
            "Epoch 5/5\n",
            "6288/6288 [==============================] - 104s 17ms/step - loss: 0.6451 - val_loss: 0.6399\n"
          ]
        }
      ],
      "source": [
        "# Training for Book Rating Dataset using MLP (NCF-II)\n",
        "Embedding_size = [8, 16, 32, 64] \n",
        "\n",
        "\n",
        "new = {'val_loss':[]}\n",
        "for i in Embedding_size:\n",
        "  model = MLP(br_num_users, br_num_items, i)\n",
        "  model.compile(loss = tf.keras.losses.BinaryCrossentropy(), optimizer=keras.optimizers.Adagrad(lr=0.0001))\n",
        "  history = model.fit(\n",
        "    x=x_train,\n",
        "    y=y_train,\n",
        "    batch_size=128,\n",
        "    epochs=5,\n",
        "    verbose=1,\n",
        "    validation_data=(x_val, y_val)\n",
        "  )\n",
        "\n",
        "  new['val_loss'].append(history.history['val_loss'])"
      ]
    },
    {
      "cell_type": "code",
      "execution_count": null,
      "metadata": {
        "colab": {
          "base_uri": "https://localhost:8080/",
          "height": 295
        },
        "id": "1p1VRdasZHup",
        "outputId": "8d2915a3-0479-4b1b-b5b7-77f509dfbe15"
      },
      "outputs": [
        {
          "output_type": "display_data",
          "data": {
            "text/plain": [
              "<Figure size 432x288 with 1 Axes>"
            ],
            "image/png": "[encoded data removed]"
          },
          "metadata": {
            "needs_background": "light"
          }
        }
      ],
      "source": [
        "# 'new_output' is a dataframe with stacked validation losses fro different Embedding Dimensions\n",
        "val_losses_data_ML = pd.DataFrame(new)\n",
        "val_losses_data_ML['Dim'] = Embedding_size\n",
        "val_losses_data_ML.set_index(['Dim'])\n",
        "\n",
        "\n",
        "for i, v in val_losses_data_ML.iterrows():\n",
        "  plt.plot(val_losses_data_ML['val_loss'][i], '-o')\n",
        "plt.title('Model Loss for different dimensions for Book Rating Dataset - MLP')\n",
        "plt.ylabel('val_loss')\n",
        "plt.xlabel('epoch')\n",
        "plt.legend(val_losses_data_ML['Dim'], loc='lower left')\n",
        "plt.show()"
      ]
    },
    {
      "cell_type": "code",
      "execution_count": null,
      "metadata": {
        "id": "VBtJeiaVZHm1"
      },
      "outputs": [],
      "source": []
    },
    {
      "cell_type": "code",
      "source": [],
      "metadata": {
        "id": "98ZZ1tX0Zh2X"
      },
      "execution_count": null,
      "outputs": []
    },
    {
      "cell_type": "code",
      "source": [],
      "metadata": {
        "id": "YkPm8M7NZh5D"
      },
      "execution_count": null,
      "outputs": []
    },
    {
      "cell_type": "code",
      "source": [],
      "metadata": {
        "id": "XQzo6DcdZh7-"
      },
      "execution_count": null,
      "outputs": []
    },
    {
      "cell_type": "code",
      "source": [],
      "metadata": {
        "id": "9rOxOuzBZh_w"
      },
      "execution_count": null,
      "outputs": []
    },
    {
      "cell_type": "code",
      "source": [],
      "metadata": {
        "id": "8s8ayH0yZiCf"
      },
      "execution_count": null,
      "outputs": []
    },
    {
      "cell_type": "markdown",
      "metadata": {
        "id": "Q6lCwQoX2Ek7"
      },
      "source": [
        "#**Combining the GMF and MLP to consolitdate the version of Neural Collaborative Filtering (NCF)**"
      ]
    },
    {
      "cell_type": "code",
      "execution_count": null,
      "metadata": {
        "colab": {
          "base_uri": "https://localhost:8080/"
        },
        "id": "5-mXjIiT_kxb",
        "outputId": "c95f8047-7467-4b12-c2d5-43a3555188f1"
      },
      "outputs": [
        {
          "output_type": "stream",
          "name": "stdout",
          "text": [
            "(804846, 2)\n",
            "(804846,)\n",
            "(344934, 2)\n",
            "(344934,)\n"
          ]
        }
      ],
      "source": [
        "# Change the dataset name as per the interest - movielens dataset > ratings, book rating dataset > book_rating_data\n",
        "\n",
        "rating = book_rating_data  #Change it to different dataset accordingly\n",
        "rating[\"rating\"] = rating[\"rating\"].values.astype(np.float32)\n",
        "\n",
        "min_rating = min(rating[\"rating\"])\n",
        "max_rating = max(rating[\"rating\"])\n",
        "\n",
        "# Creation of train and validation dataset\n",
        "data = rating.sample(frac=1, random_state=1)\n",
        "x = data[[\"user\",\"item\"]].values\n",
        "y = data[\"rating\"].apply(lambda x: (x - min_rating) / (max_rating - min_rating)).values\n",
        "#y = data[\"rating\"]\n",
        "\n",
        "\n",
        "train_indices = int(0.7 * data.shape[0])\n",
        "\n",
        "x_train, x_val, y_train, y_val = (x[:train_indices], x[train_indices:], y[:train_indices], y[train_indices:])\n",
        "\n",
        "print(x_train.shape)\n",
        "print(y_train.shape)\n",
        "print(x_val.shape)\n",
        "print(y_val.shape)"
      ]
    },
    {
      "cell_type": "code",
      "execution_count": null,
      "metadata": {
        "id": "q7-IqiZUZHie"
      },
      "outputs": [],
      "source": [
        "# Model creation combining GMF and MLP\n",
        "class NCF(keras.Model):\n",
        "  def __init__(self, num_users, num_items, embedding_size, **kwargs):\n",
        "    super(NCF, self).__init__(**kwargs)\n",
        "    self.num_users = num_users\n",
        "    self.num_items = num_items\n",
        "    self.embedding_size = embedding_size\n",
        "    self.user_embed = layers.Embedding(\n",
        "        num_users,\n",
        "        embedding_size,\n",
        "        embeddings_initializer=\"uniform\",\n",
        "        embeddings_regularizer=keras.regularizers.l2(1e-6)\n",
        "    )\n",
        "    self.user_bias = layers.Embedding(num_users, 1)\n",
        "    self.item_embed = layers.Embedding(\n",
        "        num_items,\n",
        "        embedding_size,\n",
        "        embeddings_initializer=\"uniform\",\n",
        "        embeddings_regularizer=keras.regularizers.l2(1e-6)\n",
        "    )\n",
        "    self.item_bias = layers.Embedding(num_items, 1)\n",
        "    #MLP layers\n",
        "    self.layer1 = Dense(256, activation='relu')\n",
        "    self.layer2 = Dense(128, activation='relu')\n",
        "    self.layer3 = Dense(64, activation='relu')\n",
        "    #self.layer4 = Dense(32, activation='relu')\n",
        "    self.output_layer = Dense(1, activation='sigmoid')\n",
        "\n",
        "\n",
        "\n",
        "  def call(self, inputs):\n",
        "    user_vector = self.user_embed(inputs[:,0])\n",
        "    user_bias = self.user_bias(inputs[:,0])\n",
        "    item_vector = self.item_embed(inputs[:,1])\n",
        "    item_bias = self.item_bias(inputs[:,1])\n",
        "    GMF_output = user_vector * item_vector\n",
        "    MLP_output = layers.Concatenate()([user_vector ,item_vector])\n",
        "    MLP_out1 = self.layer1(MLP_output)\n",
        "    MLP_out2 = self.layer2(MLP_out1)\n",
        "    MLP_out3 = self.layer3(MLP_out2)\n",
        "    #MLP_out4 = self.layer4(MLP_out3)\n",
        "    final_input = layers.Concatenate()([GMF_output, MLP_out3])\n",
        "    final_output = self.output_layer(final_input)\n",
        "\n",
        "    #x = new #+ user_bias + item_bias\n",
        "    return final_output"
      ]
    },
    {
      "cell_type": "code",
      "execution_count": null,
      "metadata": {
        "colab": {
          "base_uri": "https://localhost:8080/"
        },
        "id": "ecoepMmUZNuh",
        "outputId": "4d552c0e-3f04-4d09-c39f-a0c64222f3de"
      },
      "outputs": [
        {
          "output_type": "stream",
          "name": "stdout",
          "text": [
            "Epoch 1/5\n"
          ]
        },
        {
          "output_type": "stream",
          "name": "stderr",
          "text": [
            "WARNING:tensorflow:Gradients do not exist for variables ['ncf_12/embedding_49/embeddings:0', 'ncf_12/embedding_51/embeddings:0'] when minimizing the loss. If you're using `model.compile()`, did you forget to provide a `loss`argument?\n",
            "WARNING:tensorflow:Gradients do not exist for variables ['ncf_12/embedding_49/embeddings:0', 'ncf_12/embedding_51/embeddings:0'] when minimizing the loss. If you're using `model.compile()`, did you forget to provide a `loss`argument?\n"
          ]
        },
        {
          "output_type": "stream",
          "name": "stdout",
          "text": [
            "276/276 [==============================] - 2s 5ms/step - loss: 0.6915 - val_loss: 0.6901\n",
            "Epoch 2/5\n",
            "276/276 [==============================] - 1s 4ms/step - loss: 0.6888 - val_loss: 0.6877\n",
            "Epoch 3/5\n",
            "276/276 [==============================] - 1s 4ms/step - loss: 0.6866 - val_loss: 0.6857\n",
            "Epoch 4/5\n",
            "276/276 [==============================] - 1s 4ms/step - loss: 0.6847 - val_loss: 0.6839\n",
            "Epoch 5/5\n",
            "276/276 [==============================] - 1s 4ms/step - loss: 0.6831 - val_loss: 0.6823\n",
            "Epoch 1/5\n"
          ]
        },
        {
          "output_type": "stream",
          "name": "stderr",
          "text": [
            "WARNING:tensorflow:Gradients do not exist for variables ['ncf_13/embedding_53/embeddings:0', 'ncf_13/embedding_55/embeddings:0'] when minimizing the loss. If you're using `model.compile()`, did you forget to provide a `loss`argument?\n",
            "WARNING:tensorflow:Gradients do not exist for variables ['ncf_13/embedding_53/embeddings:0', 'ncf_13/embedding_55/embeddings:0'] when minimizing the loss. If you're using `model.compile()`, did you forget to provide a `loss`argument?\n"
          ]
        },
        {
          "output_type": "stream",
          "name": "stdout",
          "text": [
            "276/276 [==============================] - 2s 5ms/step - loss: 0.6927 - val_loss: 0.6918\n",
            "Epoch 2/5\n",
            "276/276 [==============================] - 1s 4ms/step - loss: 0.6911 - val_loss: 0.6904\n",
            "Epoch 3/5\n",
            "276/276 [==============================] - 1s 4ms/step - loss: 0.6898 - val_loss: 0.6892\n",
            "Epoch 4/5\n",
            "276/276 [==============================] - 1s 4ms/step - loss: 0.6886 - val_loss: 0.6881\n",
            "Epoch 5/5\n",
            "276/276 [==============================] - 1s 4ms/step - loss: 0.6876 - val_loss: 0.6872\n",
            "Epoch 1/5\n"
          ]
        },
        {
          "output_type": "stream",
          "name": "stderr",
          "text": [
            "WARNING:tensorflow:Gradients do not exist for variables ['ncf_14/embedding_57/embeddings:0', 'ncf_14/embedding_59/embeddings:0'] when minimizing the loss. If you're using `model.compile()`, did you forget to provide a `loss`argument?\n",
            "WARNING:tensorflow:Gradients do not exist for variables ['ncf_14/embedding_57/embeddings:0', 'ncf_14/embedding_59/embeddings:0'] when minimizing the loss. If you're using `model.compile()`, did you forget to provide a `loss`argument?\n"
          ]
        },
        {
          "output_type": "stream",
          "name": "stdout",
          "text": [
            "276/276 [==============================] - 2s 5ms/step - loss: 0.6919 - val_loss: 0.6913\n",
            "Epoch 2/5\n",
            "276/276 [==============================] - 1s 4ms/step - loss: 0.6907 - val_loss: 0.6903\n",
            "Epoch 3/5\n",
            "276/276 [==============================] - 1s 5ms/step - loss: 0.6898 - val_loss: 0.6894\n",
            "Epoch 4/5\n",
            "276/276 [==============================] - 1s 4ms/step - loss: 0.6889 - val_loss: 0.6885\n",
            "Epoch 5/5\n",
            "276/276 [==============================] - 1s 4ms/step - loss: 0.6881 - val_loss: 0.6877\n",
            "Epoch 1/5\n"
          ]
        },
        {
          "output_type": "stream",
          "name": "stderr",
          "text": [
            "WARNING:tensorflow:Gradients do not exist for variables ['ncf_15/embedding_61/embeddings:0', 'ncf_15/embedding_63/embeddings:0'] when minimizing the loss. If you're using `model.compile()`, did you forget to provide a `loss`argument?\n",
            "WARNING:tensorflow:Gradients do not exist for variables ['ncf_15/embedding_61/embeddings:0', 'ncf_15/embedding_63/embeddings:0'] when minimizing the loss. If you're using `model.compile()`, did you forget to provide a `loss`argument?\n"
          ]
        },
        {
          "output_type": "stream",
          "name": "stdout",
          "text": [
            "276/276 [==============================] - 2s 5ms/step - loss: 0.6915 - val_loss: 0.6909\n",
            "Epoch 2/5\n",
            "276/276 [==============================] - 1s 4ms/step - loss: 0.6903 - val_loss: 0.6898\n",
            "Epoch 3/5\n",
            "276/276 [==============================] - 1s 4ms/step - loss: 0.6893 - val_loss: 0.6888\n",
            "Epoch 4/5\n",
            "276/276 [==============================] - 1s 4ms/step - loss: 0.6884 - val_loss: 0.6879\n",
            "Epoch 5/5\n",
            "276/276 [==============================] - 1s 4ms/step - loss: 0.6875 - val_loss: 0.6871\n"
          ]
        }
      ],
      "source": [
        "# Training for Book Rating Dataset using GMF + MLP (NCF)\n",
        "Embedding_size = [8, 16, 32, 64] \n",
        "\n",
        "\n",
        "new = {'val_loss':[]}\n",
        "for i in Embedding_size:\n",
        "  model = NCF(num_users, num_items, i)\n",
        "  model.compile(loss = tf.keras.losses.BinaryCrossentropy(), optimizer=keras.optimizers.Adagrad(lr=0.0001))\n",
        "  history = model.fit(\n",
        "    x=x_train,\n",
        "    y=y_train,\n",
        "    batch_size=256,\n",
        "    epochs=5,\n",
        "    verbose=1,\n",
        "    validation_data=(x_val, y_val)\n",
        "  )\n",
        "\n",
        "  new['val_loss'].append(history.history['val_loss'])"
      ]
    },
    {
      "cell_type": "code",
      "execution_count": null,
      "metadata": {
        "colab": {
          "base_uri": "https://localhost:8080/",
          "height": 295
        },
        "id": "1_bitYBEZHfd",
        "outputId": "7baf9c3d-fe63-43c6-db8e-ffd26bd9c01f"
      },
      "outputs": [
        {
          "output_type": "display_data",
          "data": {
            "text/plain": [
              "<Figure size 432x288 with 1 Axes>"
            ],
            "image/png": "[encoded data removed]"
          },
          "metadata": {
            "needs_background": "light"
          }
        }
      ],
      "source": [
        "# 'new_output' is a dataframe with stacked validation losses for different Embedding Dimensions\n",
        "val_losses_data_ML = pd.DataFrame(new)\n",
        "val_losses_data_ML['Dim'] = Embedding_size\n",
        "val_losses_data_ML.set_index(['Dim'])\n",
        "\n",
        "\n",
        "for i, v in val_losses_data_ML.iterrows():\n",
        "  plt.plot(val_losses_data_ML['val_loss'][i], '-o')\n",
        "plt.title('Model Loss for different dimensions for MovieLens Dataset - NCF')\n",
        "plt.ylabel('val_loss')\n",
        "plt.xlabel('epoch')\n",
        "plt.legend(val_losses_data_ML['Dim'], loc='lower left')\n",
        "plt.show()"
      ]
    },
    {
      "cell_type": "code",
      "execution_count": null,
      "metadata": {
        "colab": {
          "base_uri": "https://localhost:8080/"
        },
        "id": "sYCyjtnZZHcc",
        "outputId": "5d043bcd-7e37-4eab-dba3-8886b1c2b35e"
      },
      "outputs": [
        {
          "output_type": "stream",
          "name": "stdout",
          "text": [
            "Epoch 1/5\n"
          ]
        },
        {
          "output_type": "stream",
          "name": "stderr",
          "text": [
            "WARNING:tensorflow:Gradients do not exist for variables ['ncf_28/embedding_113/embeddings:0', 'ncf_28/embedding_115/embeddings:0'] when minimizing the loss. If you're using `model.compile()`, did you forget to provide a `loss`argument?\n",
            "WARNING:tensorflow:Gradients do not exist for variables ['ncf_28/embedding_113/embeddings:0', 'ncf_28/embedding_115/embeddings:0'] when minimizing the loss. If you're using `model.compile()`, did you forget to provide a `loss`argument?\n"
          ]
        },
        {
          "output_type": "stream",
          "name": "stdout",
          "text": [
            "6288/6288 [==============================] - 37s 6ms/step - loss: 0.6769 - val_loss: 0.6626\n",
            "Epoch 2/5\n",
            "6288/6288 [==============================] - 36s 6ms/step - loss: 0.6525 - val_loss: 0.6431\n",
            "Epoch 3/5\n",
            "6288/6288 [==============================] - 31s 5ms/step - loss: 0.6356 - val_loss: 0.6284\n",
            "Epoch 4/5\n",
            "6288/6288 [==============================] - 36s 6ms/step - loss: 0.6229 - val_loss: 0.6176\n",
            "Epoch 5/5\n",
            "6288/6288 [==============================] - 36s 6ms/step - loss: 0.6140 - val_loss: 0.6103\n",
            "Epoch 1/5\n"
          ]
        },
        {
          "output_type": "stream",
          "name": "stderr",
          "text": [
            "WARNING:tensorflow:Gradients do not exist for variables ['ncf_29/embedding_117/embeddings:0', 'ncf_29/embedding_119/embeddings:0'] when minimizing the loss. If you're using `model.compile()`, did you forget to provide a `loss`argument?\n",
            "WARNING:tensorflow:Gradients do not exist for variables ['ncf_29/embedding_117/embeddings:0', 'ncf_29/embedding_119/embeddings:0'] when minimizing the loss. If you're using `model.compile()`, did you forget to provide a `loss`argument?\n"
          ]
        },
        {
          "output_type": "stream",
          "name": "stdout",
          "text": [
            "6288/6288 [==============================] - 47s 7ms/step - loss: 0.6768 - val_loss: 0.6615\n",
            "Epoch 2/5\n",
            "6288/6288 [==============================] - 42s 7ms/step - loss: 0.6502 - val_loss: 0.6399\n",
            "Epoch 3/5\n",
            "6288/6288 [==============================] - 47s 7ms/step - loss: 0.6322 - val_loss: 0.6250\n",
            "Epoch 4/5\n",
            "6288/6288 [==============================] - 46s 7ms/step - loss: 0.6200 - val_loss: 0.6152\n",
            "Epoch 5/5\n",
            "6288/6288 [==============================] - 49s 8ms/step - loss: 0.6125 - val_loss: 0.6096\n",
            "Epoch 1/5\n"
          ]
        },
        {
          "output_type": "stream",
          "name": "stderr",
          "text": [
            "WARNING:tensorflow:Gradients do not exist for variables ['ncf_30/embedding_121/embeddings:0', 'ncf_30/embedding_123/embeddings:0'] when minimizing the loss. If you're using `model.compile()`, did you forget to provide a `loss`argument?\n",
            "WARNING:tensorflow:Gradients do not exist for variables ['ncf_30/embedding_121/embeddings:0', 'ncf_30/embedding_123/embeddings:0'] when minimizing the loss. If you're using `model.compile()`, did you forget to provide a `loss`argument?\n"
          ]
        },
        {
          "output_type": "stream",
          "name": "stdout",
          "text": [
            "6288/6288 [==============================] - 67s 11ms/step - loss: 0.6902 - val_loss: 0.6794\n",
            "Epoch 2/5\n",
            "6288/6288 [==============================] - 69s 11ms/step - loss: 0.6710 - val_loss: 0.6629\n",
            "Epoch 3/5\n",
            "6288/6288 [==============================] - 69s 11ms/step - loss: 0.6556 - val_loss: 0.6484\n",
            "Epoch 4/5\n",
            "6288/6288 [==============================] - 66s 10ms/step - loss: 0.6423 - val_loss: 0.6362\n",
            "Epoch 5/5\n",
            "6288/6288 [==============================] - 63s 10ms/step - loss: 0.6315 - val_loss: 0.6266\n",
            "Epoch 1/5\n"
          ]
        },
        {
          "output_type": "stream",
          "name": "stderr",
          "text": [
            "WARNING:tensorflow:Gradients do not exist for variables ['ncf_31/embedding_125/embeddings:0', 'ncf_31/embedding_127/embeddings:0'] when minimizing the loss. If you're using `model.compile()`, did you forget to provide a `loss`argument?\n",
            "WARNING:tensorflow:Gradients do not exist for variables ['ncf_31/embedding_125/embeddings:0', 'ncf_31/embedding_127/embeddings:0'] when minimizing the loss. If you're using `model.compile()`, did you forget to provide a `loss`argument?\n"
          ]
        },
        {
          "output_type": "stream",
          "name": "stdout",
          "text": [
            "6288/6288 [==============================] - 105s 17ms/step - loss: 0.7013 - val_loss: 0.6901\n",
            "Epoch 2/5\n",
            "6288/6288 [==============================] - 104s 16ms/step - loss: 0.6808 - val_loss: 0.6720\n",
            "Epoch 3/5\n",
            "6288/6288 [==============================] - 103s 16ms/step - loss: 0.6644 - val_loss: 0.6570\n",
            "Epoch 4/5\n",
            "6288/6288 [==============================] - 103s 16ms/step - loss: 0.6510 - val_loss: 0.6450\n",
            "Epoch 5/5\n",
            "6288/6288 [==============================] - 103s 16ms/step - loss: 0.6405 - val_loss: 0.6360\n"
          ]
        }
      ],
      "source": [
        "# Training for Book Rating Dataset using GMF + MLP (NCF)\n",
        "Embedding_size = [8, 16, 32, 64] \n",
        "\n",
        "\n",
        "new = {'val_loss':[]}\n",
        "for i in Embedding_size:\n",
        "  model = NCF(br_num_users, br_num_items, i)\n",
        "  model.compile(loss = tf.keras.losses.BinaryCrossentropy(), optimizer=keras.optimizers.Adagrad(lr=0.0001))\n",
        "  history = model.fit(\n",
        "    x=x_train,\n",
        "    y=y_train,\n",
        "    batch_size=128,\n",
        "    epochs=5,\n",
        "    verbose=1,\n",
        "    validation_data=(x_val, y_val)\n",
        "  )\n",
        "\n",
        "  new['val_loss'].append(history.history['val_loss'])"
      ]
    },
    {
      "cell_type": "code",
      "execution_count": null,
      "metadata": {
        "colab": {
          "base_uri": "https://localhost:8080/",
          "height": 295
        },
        "id": "imA1dR19ZHZH",
        "outputId": "ed835af5-9be3-48b1-8c39-8c450b0704ce"
      },
      "outputs": [
        {
          "output_type": "display_data",
          "data": {
            "text/plain": [
              "<Figure size 432x288 with 1 Axes>"
            ],
            "image/png": "[encoded data removed]"
          },
          "metadata": {
            "needs_background": "light"
          }
        }
      ],
      "source": [
        "val_losses_data_ML = pd.DataFrame(new)\n",
        "val_losses_data_ML['Dim'] = Embedding_size\n",
        "val_losses_data_ML.set_index(['Dim'])\n",
        "\n",
        "\n",
        "for i, v in val_losses_data_ML.iterrows():\n",
        "  plt.plot(val_losses_data_ML['val_loss'][i], '-o')\n",
        "plt.title('Model Loss for different dimensions for Book Rating Dataset - NCF')\n",
        "plt.ylabel('val_loss')\n",
        "plt.xlabel('epoch')\n",
        "plt.legend(val_losses_data_ML['Dim'], loc='lower left')\n",
        "plt.show()"
      ]
    },
    {
      "cell_type": "code",
      "execution_count": null,
      "metadata": {
        "id": "ku05wKMaLD9d"
      },
      "outputs": [],
      "source": []
    },
    {
      "cell_type": "code",
      "execution_count": null,
      "metadata": {
        "id": "po3Vov23LD54"
      },
      "outputs": [],
      "source": []
    }
  ],
  "metadata": {
    "colab": {
      "collapsed_sections": [],
      "provenance": [],
      "authorship_tag": "ABX9TyOi2FdXh7DBoEt+mcJSvwup"
    },
    "gpuClass": "standard",
    "kernelspec": {
      "display_name": "Python 3",
      "name": "python3"
    },
    "language_info": {
      "name": "python"
    }
  },
  "nbformat": 4,
  "nbformat_minor": 0
}