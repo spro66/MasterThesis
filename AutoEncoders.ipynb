{
  "nbformat": 4,
  "nbformat_minor": 0,
  "metadata": {
    "colab": {
      "provenance": [],
      "collapsed_sections": [],
      "authorship_tag": "ABX9TyNur53HnJs/uTYwO4YWceSu"
    },
    "kernelspec": {
      "name": "python3",
      "display_name": "Python 3"
    },
    "language_info": {
      "name": "python"
    },
    "gpuClass": "standard",
    "accelerator": "GPU"
  },
  "cells": [
    {
      "cell_type": "code",
      "execution_count": null,
      "metadata": {
        "colab": {
          "base_uri": "https://localhost:8080/"
        },
        "id": "1pGhQDFFr54Y",
        "outputId": "465099a2-c114-43f5-9b15-05428d914847"
      },
      "outputs": [
        {
          "output_type": "stream",
          "name": "stdout",
          "text": [
            "--2022-10-10 12:22:26--  http://files.grouplens.org/datasets/movielens/ml-latest-small.zip\n",
            "Resolving files.grouplens.org (files.grouplens.org)... 128.101.65.152\n",
            "Connecting to files.grouplens.org (files.grouplens.org)|128.101.65.152|:80... connected.\n",
            "HTTP request sent, awaiting response... 200 OK\n",
            "Length: 978202 (955K) [application/zip]\n",
            "Saving to: ‘ml-latest-small.zip’\n",
            "\n",
            "ml-latest-small.zip 100%[===================>] 955.28K   721KB/s    in 1.3s    \n",
            "\n",
            "2022-10-10 12:22:29 (721 KB/s) - ‘ml-latest-small.zip’ saved [978202/978202]\n",
            "\n",
            "Archive:  ml-latest-small.zip\n",
            "   creating: ml-latest-small/\n",
            "  inflating: ml-latest-small/links.csv  \n",
            "  inflating: ml-latest-small/tags.csv  \n",
            "  inflating: ml-latest-small/ratings.csv  \n",
            "  inflating: ml-latest-small/README.txt  \n",
            "  inflating: ml-latest-small/movies.csv  \n",
            "--2022-10-10 12:22:29--  http://www2.informatik.uni-freiburg.de/~cziegler/BX/BX-CSV-Dump.zip\n",
            "Resolving www2.informatik.uni-freiburg.de (www2.informatik.uni-freiburg.de)... 132.230.105.133\n",
            "Connecting to www2.informatik.uni-freiburg.de (www2.informatik.uni-freiburg.de)|132.230.105.133|:80... connected.\n",
            "HTTP request sent, awaiting response... 200 OK\n",
            "Length: 26085508 (25M) [application/zip]\n",
            "Saving to: ‘BX-CSV-Dump.zip’\n",
            "\n",
            "BX-CSV-Dump.zip     100%[===================>]  24.88M  8.43MB/s    in 2.9s    \n",
            "\n",
            "2022-10-10 12:22:33 (8.43 MB/s) - ‘BX-CSV-Dump.zip’ saved [26085508/26085508]\n",
            "\n",
            "Archive:  BX-CSV-Dump.zip\n",
            "  inflating: BX-Book-Ratings.csv     \n",
            "  inflating: BX-Books.csv            \n",
            "  inflating: BX-Users.csv            \n"
          ]
        }
      ],
      "source": [
        "# Downloading the movielens datasets and Book-Crossing Dataset\n",
        "\n",
        "# Movielens Dataset\n",
        "!wget http://files.grouplens.org/datasets/movielens/ml-latest-small.zip\n",
        "!unzip ml-latest-small.zip\n",
        "# Book-Crossing Dataset\n",
        "!wget http://www2.informatik.uni-freiburg.de/~cziegler/BX/BX-CSV-Dump.zip\n",
        "!unzip BX-CSV-Dump.zip"
      ]
    },
    {
      "cell_type": "code",
      "source": [
        "# Importing reuired packages\n",
        "import pandas as pd\n",
        "import numpy as np\n",
        "import tensorflow as tf\n",
        "import torch\n",
        "import torch.nn as nn\n",
        "from tensorflow import keras\n",
        "from tensorflow.keras import layers\n",
        "from keras.models import Model\n",
        "from keras.layers import Dense, Dropout, merge\n",
        "import pickle\n",
        "from keras import backend as K\n",
        "import matplotlib.pyplot as plt\n",
        "%matplotlib inline"
      ],
      "metadata": {
        "id": "u8-tl5HvsDDi"
      },
      "execution_count": null,
      "outputs": []
    },
    {
      "cell_type": "code",
      "source": [
        "# Reading required files\n",
        "ratings = pd.read_csv(\"ml-latest-small/ratings.csv\")\n",
        "movies = pd.read_csv(\"ml-latest-small/movies.csv\")\n",
        "book_rating_data = pd.read_csv(\"BX-Book-Ratings.csv\", encoding='latin1', sep=';')"
      ],
      "metadata": {
        "id": "V415EQzrsDny"
      },
      "execution_count": null,
      "outputs": []
    },
    {
      "cell_type": "code",
      "source": [
        "\n",
        "# Snapshot of the loaded dataset\n",
        "print(ratings.head())\n",
        "print(movies.head())\n",
        "print(book_rating_data.head())"
      ],
      "metadata": {
        "colab": {
          "base_uri": "https://localhost:8080/"
        },
        "id": "hdJbuJqAsGpC",
        "outputId": "aa17306f-296d-47a0-ee1a-fc32e5d1d50e"
      },
      "execution_count": null,
      "outputs": [
        {
          "output_type": "stream",
          "name": "stdout",
          "text": [
            "   userId  movieId  rating  timestamp\n",
            "0       1        1     4.0  964982703\n",
            "1       1        3     4.0  964981247\n",
            "2       1        6     4.0  964982224\n",
            "3       1       47     5.0  964983815\n",
            "4       1       50     5.0  964982931\n",
            "   movieId                               title  \\\n",
            "0        1                    Toy Story (1995)   \n",
            "1        2                      Jumanji (1995)   \n",
            "2        3             Grumpier Old Men (1995)   \n",
            "3        4            Waiting to Exhale (1995)   \n",
            "4        5  Father of the Bride Part II (1995)   \n",
            "\n",
            "                                        genres  \n",
            "0  Adventure|Animation|Children|Comedy|Fantasy  \n",
            "1                   Adventure|Children|Fantasy  \n",
            "2                               Comedy|Romance  \n",
            "3                         Comedy|Drama|Romance  \n",
            "4                                       Comedy  \n",
            "   User-ID        ISBN  Book-Rating\n",
            "0   276725  034545104X            0\n",
            "1   276726  0155061224            5\n",
            "2   276727  0446520802            0\n",
            "3   276729  052165615X            3\n",
            "4   276729  0521795028            6\n"
          ]
        }
      ]
    },
    {
      "cell_type": "code",
      "source": [
        "# Renaming of various columns to create a uniform format\n",
        "ratings[\"user\"] = ratings[\"userId\"]\n",
        "ratings[\"item\"] = ratings[\"movieId\"]\n",
        "\n",
        "\n",
        "book_rating_data[\"user\"] = book_rating_data[\"User-ID\"]\n",
        "book_rating_data[\"item\"] = book_rating_data[\"ISBN\"]\n",
        "book_rating_data[\"rating\"] = book_rating_data[\"Book-Rating\"]\n",
        "\n",
        "\n",
        "\n",
        "#book_rating_data[\"user\"] = book_rating_data[\"User-ID\"].map(user_item_index(book_rating_data[\"User-ID\"]))\n",
        "#book_rating_data[\"item\"] = book_rating_data[\"ISBN\"].map(user_item_index(book_rating_data[\"ISBN\"]))\n",
        "#book_rating_data.rename(columns = {'Book-Rating':'rating'}, inplace=True)"
      ],
      "metadata": {
        "id": "GBd0uPUPsLg_"
      },
      "execution_count": null,
      "outputs": []
    },
    {
      "cell_type": "code",
      "source": [
        "print(ratings.head())\n",
        "print(book_rating_data.head())"
      ],
      "metadata": {
        "colab": {
          "base_uri": "https://localhost:8080/"
        },
        "id": "ULzLQS06sNk8",
        "outputId": "db354488-af90-4b6a-ebff-83878f2df3b0"
      },
      "execution_count": null,
      "outputs": [
        {
          "output_type": "stream",
          "name": "stdout",
          "text": [
            "   userId  movieId  rating  timestamp  user  item\n",
            "0       1        1     4.0  964982703     1     1\n",
            "1       1        3     4.0  964981247     1     3\n",
            "2       1        6     4.0  964982224     1     6\n",
            "3       1       47     5.0  964983815     1    47\n",
            "4       1       50     5.0  964982931     1    50\n",
            "   User-ID        ISBN  Book-Rating    user        item  rating\n",
            "0   276725  034545104X            0  276725  034545104X       0\n",
            "1   276726  0155061224            5  276726  0155061224       5\n",
            "2   276727  0446520802            0  276727  0446520802       0\n",
            "3   276729  052165615X            3  276729  052165615X       3\n",
            "4   276729  0521795028            6  276729  0521795028       6\n"
          ]
        }
      ]
    },
    {
      "cell_type": "markdown",
      "source": [
        "## To decide on the I-AutoRec and U-AutoRec"
      ],
      "metadata": {
        "id": "wMVYXN4mfG9x"
      }
    },
    {
      "cell_type": "code",
      "source": [
        "# Maximum number of User/Item interaction\n",
        "#MovieLens Dataset\n",
        "movie_count = ratings.groupby('user').item.nunique()\n",
        "print(\"Maximum No. of movies, a user has rated : {} out of {}\".format(movie_count.max(), ratings[\"item\"].nunique()))\n",
        "\n",
        "\n",
        "user_count = ratings.groupby('movieId').userId.nunique()\n",
        "print(\"Maximum No. of users, a movie has got ratings from : {} out of {}\".format(user_count.max(), ratings[\"userId\"].nunique()))\n",
        "\n",
        "\n",
        "\n",
        "#Book Ratings dataset\n",
        "ISBN_count = book_rating_data.groupby('User-ID').ISBN.nunique()\n",
        "print(\"Maximum No. of books, users have rated : {} out of {}\".format(ISBN_count.max(), book_rating_data[\"ISBN\"].nunique()))\n",
        "\n",
        "\n",
        "user_count = book_rating_data.groupby('item').user.nunique()\n",
        "print(\"Maximum No. of users, books have got ratings from : {} out of {}\".format(user_count.max(), book_rating_data[\"user\"].nunique()))\n"
      ],
      "metadata": {
        "colab": {
          "base_uri": "https://localhost:8080/"
        },
        "id": "_HBs6jaHdBMW",
        "outputId": "f08157df-c7cc-4188-f2e5-662ad9989e77"
      },
      "execution_count": null,
      "outputs": [
        {
          "output_type": "stream",
          "name": "stdout",
          "text": [
            "Maximum No. of movies, a user has rated : 2698 out of 9724\n",
            "Maximum No. of users, a movie has got ratings from : 329 out of 610\n",
            "Maximum No. of books, users have rated : 13602 out of 340556\n",
            "Maximum No. of users, books have got ratings from : 2502 out of 105283\n"
          ]
        }
      ]
    },
    {
      "cell_type": "code",
      "source": [
        "num_users = len(ratings[\"userId\"].unique().tolist())\n",
        "num_items = len(ratings[\"movieId\"].unique().tolist())\n",
        "\n",
        "br_num_users = len(book_rating_data[\"User-ID\"].unique().tolist())\n",
        "br_num_items = len(book_rating_data[\"ISBN\"].unique().tolist())\n",
        "\n",
        "\n",
        "print(num_users)\n",
        "print(num_items)\n",
        "print(br_num_users)\n",
        "print(br_num_items)"
      ],
      "metadata": {
        "colab": {
          "base_uri": "https://localhost:8080/"
        },
        "id": "1Zb87BuUsQYJ",
        "outputId": "e9d1fd9a-8768-485c-ce2f-ad48c449b636"
      },
      "execution_count": null,
      "outputs": [
        {
          "output_type": "stream",
          "name": "stdout",
          "text": [
            "610\n",
            "9724\n",
            "105283\n",
            "340556\n"
          ]
        }
      ]
    },
    {
      "cell_type": "markdown",
      "source": [
        "## Pivoting data to get interaction ratings at item level"
      ],
      "metadata": {
        "id": "YaJ6FtEf5yN6"
      }
    },
    {
      "cell_type": "code",
      "source": [
        "data = book_rating_data[book_rating_data['Book-Rating']!=0]\n",
        "data = data[:37203]"
      ],
      "metadata": {
        "id": "Q-rHEgbb2QaL"
      },
      "execution_count": null,
      "outputs": []
    },
    {
      "cell_type": "code",
      "source": [
        "#data = book_rating_data[:67343]\n",
        "\n",
        "# I-Autorec\n",
        "final_data = data.pivot_table(index='item',columns='user',values='rating')\n",
        "final_data = final_data.fillna(0)\n",
        "final_data.values\n",
        "final_data.shape\n",
        "print(final_data.head())\n"
      ],
      "metadata": {
        "colab": {
          "base_uri": "https://localhost:8080/"
        },
        "id": "I0q0RrBPwFDh",
        "outputId": "42869303-a224-4230-88d1-9a047df6191e"
      },
      "execution_count": null,
      "outputs": [
        {
          "output_type": "stream",
          "name": "stdout",
          "text": [
            "user           8       9       10      12      14      16      17      19      \\\n",
            "item                                                                            \n",
            " 9022906116       0.0     0.0     0.0     0.0     0.0     0.0     0.0     0.0   \n",
            "0 907 062 008     0.0     0.0     0.0     0.0     0.0     0.0     0.0     0.0   \n",
            "0/330/25864/8     0.0     0.0     0.0     0.0     0.0     0.0     0.0     0.0   \n",
            "00 14 02 5314     0.0     0.0     0.0     0.0     0.0     0.0     0.0     0.0   \n",
            "00000000          0.0     0.0     0.0     0.0     0.0     0.0     0.0     0.0   \n",
            "\n",
            "user           22      26      ...  278831  278832  278836  278843  278844  \\\n",
            "item                           ...                                           \n",
            " 9022906116       0.0     0.0  ...     0.0     0.0     0.0     0.0     0.0   \n",
            "0 907 062 008     0.0     0.0  ...     0.0     0.0     0.0     0.0     0.0   \n",
            "0/330/25864/8     0.0     0.0  ...     0.0     0.0     0.0     0.0     0.0   \n",
            "00 14 02 5314     0.0     0.0  ...     0.0     0.0     0.0     0.0     0.0   \n",
            "00000000          0.0     0.0  ...     0.0     0.0     0.0     0.0     0.0   \n",
            "\n",
            "user           278846  278849  278851  278852  278854  \n",
            "item                                                   \n",
            " 9022906116       0.0     0.0     0.0     0.0     0.0  \n",
            "0 907 062 008     0.0     0.0     0.0     0.0     0.0  \n",
            "0/330/25864/8     0.0     0.0     0.0     0.0     0.0  \n",
            "00 14 02 5314     0.0     0.0     0.0     0.0     0.0  \n",
            "00000000          0.0     0.0     0.0     0.0     0.0  \n",
            "\n",
            "[5 rows x 5650 columns]\n"
          ]
        }
      ]
    },
    {
      "cell_type": "code",
      "source": [
        "# Normalise the ratings I-Autorec\n",
        "#final_data_norm =(final_data - final_data.min(axis=1))/(final_data.max(axis=1)-final_data.min(axis =1).values)\n",
        "final_data_norm = final_data.div(final_data.sum(axis=1), axis=0)\n",
        "print(final_data.shape)\n",
        "final_data_norm.fillna(0)\n",
        "print(final_data_norm.shape)"
      ],
      "metadata": {
        "id": "Rk_B_F6yEkMF",
        "colab": {
          "base_uri": "https://localhost:8080/"
        },
        "outputId": "16d38964-8bbc-403a-ad41-920efe82b467"
      },
      "execution_count": null,
      "outputs": [
        {
          "output_type": "stream",
          "name": "stdout",
          "text": [
            "(28295, 5650)\n",
            "(28295, 5650)\n"
          ]
        }
      ]
    },
    {
      "cell_type": "code",
      "source": [
        "#I-Autorec\n",
        "train_indices = int(0.7 * final_data_norm.shape[0])\n",
        "x_train, x_val= (final_data_norm[:train_indices], final_data_norm[train_indices:])\n",
        "final_data_norm.fillna(0)\n",
        "print(x_train.shape)\n",
        "print(x_val.shape)\n",
        "print(x_train)"
      ],
      "metadata": {
        "id": "fZD_GOoMwE5s",
        "colab": {
          "base_uri": "https://localhost:8080/"
        },
        "outputId": "d1cb4a9d-d1c4-49d1-955a-5e7bdbea3fcd"
      },
      "execution_count": null,
      "outputs": [
        {
          "output_type": "stream",
          "name": "stdout",
          "text": [
            "(19806, 5650)\n",
            "(8489, 5650)\n",
            "user           8       9       10      12      14      16      17      19      \\\n",
            "item                                                                            \n",
            " 9022906116       0.0     0.0     0.0     0.0     0.0     0.0     0.0     0.0   \n",
            "0 907 062 008     0.0     0.0     0.0     0.0     0.0     0.0     0.0     0.0   \n",
            "0/330/25864/8     0.0     0.0     0.0     0.0     0.0     0.0     0.0     0.0   \n",
            "00 14 02 5314     0.0     0.0     0.0     0.0     0.0     0.0     0.0     0.0   \n",
            "00000000          0.0     0.0     0.0     0.0     0.0     0.0     0.0     0.0   \n",
            "...               ...     ...     ...     ...     ...     ...     ...     ...   \n",
            "089586763X        0.0     0.0     0.0     0.0     0.0     0.0     0.0     0.0   \n",
            "0895870835        0.0     0.0     0.0     0.0     0.0     0.0     0.0     0.0   \n",
            "0895871939        0.0     0.0     0.0     0.0     0.0     0.0     0.0     0.0   \n",
            "089587198X        0.0     0.0     0.0     0.0     0.0     0.0     0.0     0.0   \n",
            "0895941759        0.0     0.0     0.0     0.0     0.0     0.0     0.0     0.0   \n",
            "\n",
            "user           22      26      ...  278831  278832  278836  278843  278844  \\\n",
            "item                           ...                                           \n",
            " 9022906116       0.0     0.0  ...     0.0     0.0     0.0     0.0     0.0   \n",
            "0 907 062 008     0.0     0.0  ...     0.0     0.0     0.0     0.0     0.0   \n",
            "0/330/25864/8     0.0     0.0  ...     0.0     0.0     0.0     0.0     0.0   \n",
            "00 14 02 5314     0.0     0.0  ...     0.0     0.0     0.0     0.0     0.0   \n",
            "00000000          0.0     0.0  ...     0.0     0.0     0.0     0.0     0.0   \n",
            "...               ...     ...  ...     ...     ...     ...     ...     ...   \n",
            "089586763X        0.0     0.0  ...     0.0     0.0     0.0     0.0     0.0   \n",
            "0895870835        0.0     0.0  ...     0.0     0.0     0.0     0.0     0.0   \n",
            "0895871939        0.0     0.0  ...     0.0     0.0     0.0     0.0     0.0   \n",
            "089587198X        0.0     0.0  ...     0.0     0.0     0.0     0.0     0.0   \n",
            "0895941759        0.0     0.0  ...     0.0     0.0     0.0     0.0     0.0   \n",
            "\n",
            "user           278846  278849  278851  278852  278854  \n",
            "item                                                   \n",
            " 9022906116       0.0     0.0     0.0     0.0     0.0  \n",
            "0 907 062 008     0.0     0.0     0.0     0.0     0.0  \n",
            "0/330/25864/8     0.0     0.0     0.0     0.0     0.0  \n",
            "00 14 02 5314     0.0     0.0     0.0     0.0     0.0  \n",
            "00000000          0.0     0.0     0.0     0.0     0.0  \n",
            "...               ...     ...     ...     ...     ...  \n",
            "089586763X        0.0     0.0     0.0     0.0     0.0  \n",
            "0895870835        0.0     0.0     0.0     0.0     0.0  \n",
            "0895871939        0.0     0.0     0.0     0.0     0.0  \n",
            "089587198X        0.0     0.0     0.0     0.0     0.0  \n",
            "0895941759        0.0     0.0     0.0     0.0     0.0  \n",
            "\n",
            "[19806 rows x 5650 columns]\n"
          ]
        }
      ]
    },
    {
      "cell_type": "code",
      "source": [
        "# Model for the implementation of AutoEncoder\n",
        "# Various hyperparameters were tested by changing the values and architectures within the code\n",
        "class AutoRec(keras.Model):\n",
        "  def __init__(self, embedding_size, **kwargs):\n",
        "    super(AutoRec, self).__init__(**kwargs)\n",
        "    self.encoder = keras.Sequential([layers.Input(shape=(5650,)),\n",
        "                                     layers.Dense(256, activation='relu'),\n",
        "                                     layers.Dropout(0.5),\n",
        "                                     layers.Dense(128, activation='relu'),\n",
        "                                     layers.Dropout(0.4),\n",
        "                                     layers.Dense(64, activation='relu'),\n",
        "                                     #layers.Dropout(0.2),\n",
        "                                     layers.Dense(32, activation='relu'),\n",
        "                                     layers.Dense(embedding_size, activation='relu')])\n",
        "    self.decoder = keras.Sequential([layers.Dense(64, activation='relu'),\n",
        "                                     layers.Dense(128, activation='relu'),\n",
        "                                     layers.Dense(256, activation='relu'),\n",
        "                                     layers.Dense(5650, activation='sigmoid')])\n",
        "\n",
        "  def call(self, inputs):\n",
        "    encoded = self.encoder(inputs)\n",
        "    decoded = self.decoder(encoded)\n",
        "    return(decoded)\n",
        "    \n"
      ],
      "metadata": {
        "id": "rF3XW1BZ4Jdv"
      },
      "execution_count": null,
      "outputs": []
    },
    {
      "cell_type": "code",
      "source": [
        "# Training Loop\n",
        "Embedding_size = [8, 16, 32, 64] \n",
        "\n",
        "\n",
        "new = {'val_loss':[]}\n",
        "for i in Embedding_size:\n",
        "  model = AutoRec(i)\n",
        "  model.compile(loss = tf.keras.losses.BinaryCrossentropy(), optimizer=keras.optimizers.Adagrad(lr=0.001))\n",
        "  history = model.fit(\n",
        "    x=x_train,\n",
        "    y=x_train,\n",
        "    batch_size=256,\n",
        "    shuffle=True,\n",
        "    epochs=15,\n",
        "    verbose=1,\n",
        "    validation_data = (x_val, x_val)\n",
        "  )\n",
        "\n",
        "  new['val_loss'].append(history.history['val_loss'])"
      ],
      "metadata": {
        "colab": {
          "base_uri": "https://localhost:8080/"
        },
        "id": "Yo8ZYL9G8syP",
        "outputId": "28cb714a-73cd-44fc-ebd1-5458a713499b"
      },
      "execution_count": null,
      "outputs": [
        {
          "output_type": "stream",
          "name": "stderr",
          "text": [
            "/usr/local/lib/python3.7/dist-packages/keras/optimizer_v2/adagrad.py:74: UserWarning: The `lr` argument is deprecated, use `learning_rate` instead.\n",
            "  super(Adagrad, self).__init__(name, **kwargs)\n"
          ]
        },
        {
          "output_type": "stream",
          "name": "stdout",
          "text": [
            "Epoch 1/15\n",
            "78/78 [==============================] - 8s 41ms/step - loss: 0.6931 - val_loss: 0.6931\n",
            "Epoch 2/15\n",
            "78/78 [==============================] - 2s 23ms/step - loss: 0.6931 - val_loss: 0.6931\n",
            "Epoch 3/15\n",
            "78/78 [==============================] - 2s 22ms/step - loss: 0.6931 - val_loss: 0.6931\n",
            "Epoch 4/15\n",
            "78/78 [==============================] - 2s 23ms/step - loss: 0.6931 - val_loss: 0.6931\n",
            "Epoch 5/15\n",
            "78/78 [==============================] - 2s 22ms/step - loss: 0.6931 - val_loss: 0.6931\n",
            "Epoch 6/15\n",
            "78/78 [==============================] - 2s 23ms/step - loss: 0.6931 - val_loss: 0.6931\n",
            "Epoch 7/15\n",
            "78/78 [==============================] - 2s 22ms/step - loss: 0.6931 - val_loss: 0.6931\n",
            "Epoch 8/15\n",
            "78/78 [==============================] - 2s 22ms/step - loss: 0.6931 - val_loss: 0.6931\n",
            "Epoch 9/15\n",
            "78/78 [==============================] - 2s 23ms/step - loss: 0.6931 - val_loss: 0.6930\n",
            "Epoch 10/15\n",
            "78/78 [==============================] - 2s 22ms/step - loss: 0.6930 - val_loss: 0.6930\n",
            "Epoch 11/15\n",
            "78/78 [==============================] - 2s 22ms/step - loss: 0.6930 - val_loss: 0.6930\n",
            "Epoch 12/15\n",
            "78/78 [==============================] - 2s 22ms/step - loss: 0.6930 - val_loss: 0.6930\n",
            "Epoch 13/15\n",
            "78/78 [==============================] - 2s 22ms/step - loss: 0.6930 - val_loss: 0.6930\n",
            "Epoch 14/15\n",
            "78/78 [==============================] - 2s 22ms/step - loss: 0.6930 - val_loss: 0.6930\n",
            "Epoch 15/15\n",
            "78/78 [==============================] - 2s 22ms/step - loss: 0.6930 - val_loss: 0.6930\n"
          ]
        },
        {
          "output_type": "stream",
          "name": "stderr",
          "text": [
            "/usr/local/lib/python3.7/dist-packages/keras/optimizer_v2/adagrad.py:74: UserWarning: The `lr` argument is deprecated, use `learning_rate` instead.\n",
            "  super(Adagrad, self).__init__(name, **kwargs)\n"
          ]
        },
        {
          "output_type": "stream",
          "name": "stdout",
          "text": [
            "Epoch 1/15\n",
            "78/78 [==============================] - 4s 45ms/step - loss: 0.6931 - val_loss: 0.6931\n",
            "Epoch 2/15\n",
            "78/78 [==============================] - 2s 23ms/step - loss: 0.6931 - val_loss: 0.6931\n",
            "Epoch 3/15\n",
            "78/78 [==============================] - 2s 23ms/step - loss: 0.6931 - val_loss: 0.6931\n",
            "Epoch 4/15\n",
            "78/78 [==============================] - 2s 23ms/step - loss: 0.6931 - val_loss: 0.6931\n",
            "Epoch 5/15\n",
            "78/78 [==============================] - 2s 23ms/step - loss: 0.6931 - val_loss: 0.6931\n",
            "Epoch 6/15\n",
            "78/78 [==============================] - 2s 23ms/step - loss: 0.6931 - val_loss: 0.6931\n",
            "Epoch 7/15\n",
            "78/78 [==============================] - 2s 23ms/step - loss: 0.6931 - val_loss: 0.6931\n",
            "Epoch 8/15\n",
            "78/78 [==============================] - 2s 23ms/step - loss: 0.6931 - val_loss: 0.6931\n",
            "Epoch 9/15\n",
            "78/78 [==============================] - 2s 24ms/step - loss: 0.6930 - val_loss: 0.6930\n",
            "Epoch 10/15\n",
            "78/78 [==============================] - 2s 23ms/step - loss: 0.6930 - val_loss: 0.6930\n",
            "Epoch 11/15\n",
            "78/78 [==============================] - 2s 23ms/step - loss: 0.6930 - val_loss: 0.6930\n",
            "Epoch 12/15\n",
            "78/78 [==============================] - 2s 23ms/step - loss: 0.6930 - val_loss: 0.6930\n",
            "Epoch 13/15\n",
            "78/78 [==============================] - 2s 23ms/step - loss: 0.6930 - val_loss: 0.6930\n",
            "Epoch 14/15\n",
            "78/78 [==============================] - 2s 23ms/step - loss: 0.6930 - val_loss: 0.6930\n",
            "Epoch 15/15\n",
            "78/78 [==============================] - 2s 23ms/step - loss: 0.6930 - val_loss: 0.6930\n"
          ]
        },
        {
          "output_type": "stream",
          "name": "stderr",
          "text": [
            "/usr/local/lib/python3.7/dist-packages/keras/optimizer_v2/adagrad.py:74: UserWarning: The `lr` argument is deprecated, use `learning_rate` instead.\n",
            "  super(Adagrad, self).__init__(name, **kwargs)\n"
          ]
        }
      ]
    },
    {
      "cell_type": "code",
      "source": [
        "# 'new_output' is a dataframe with stacked validation losses for different Embedding Dimensions\n",
        "val_losses_data_ML = pd.DataFrame(new)\n",
        "val_losses_data_ML['Dim'] = Embedding_size\n",
        "val_losses_data_ML.set_index(['Dim'])\n",
        "\n",
        "\n",
        "for i, v in val_losses_data_ML.iterrows():\n",
        "  plt.plot(val_losses_data_ML['val_loss'][i], '-o')\n",
        "plt.title('Model Loss for different dimensions for MovieLens Data - AutoEncoder')\n",
        "plt.ylabel('val_loss')\n",
        "plt.xlabel('epoch')\n",
        "plt.legend(val_losses_data_ML['Dim'], loc='lower left')\n",
        "plt.show()"
      ],
      "metadata": {
        "colab": {
          "base_uri": "https://localhost:8080/",
          "height": 295
        },
        "id": "Z8ONWRRYzofb",
        "outputId": "1b9bcf94-5905-4eb2-83f1-55f610d69927"
      },
      "execution_count": null,
      "outputs": [
        {
          "output_type": "display_data",
          "data": {
            "text/plain": [
              "<Figure size 432x288 with 1 Axes>"
            ],
            "image/png": "[encoded data removed]"
          },
          "metadata": {
            "needs_background": "light"
          }
        }
      ]
    },
    {
      "cell_type": "code",
      "source": [],
      "metadata": {
        "id": "QdB2FVGkc9i5"
      },
      "execution_count": null,
      "outputs": []
    },
    {
      "cell_type": "code",
      "source": [
        "# Change the dataset name as per the interest - movielens dataset > ratings, book rating dataset > book_rating_data\n",
        "\n",
        "rating = ratings\n",
        "rating[\"rating\"] = rating[\"rating\"].values.astype(np.float32)\n",
        "\n",
        "min_rating = min(rating[\"rating\"])\n",
        "max_rating = max(rating[\"rating\"])\n",
        "\n",
        "# Creation of train and validation dataset\n",
        "data = rating.sample(frac=1, random_state=1)\n",
        "x = data[[\"user\",\"item\"]].values\n",
        "y = data[\"rating\"].apply(lambda x: (x - min_rating) / (max_rating - min_rating)).values\n",
        "#y = data[\"rating\"]\n",
        "\n",
        "\n",
        "train_indices = int(0.7 * data.shape[0])\n",
        "\n",
        "x_train, x_val, y_train, y_val = (x[:train_indices], x[train_indices:], y[:train_indices], y[train_indices:])\n",
        "\n",
        "print(x_train.shape)\n",
        "print(y_train.shape)\n",
        "print(x_val.shape)\n",
        "print(y_val.shape)"
      ],
      "metadata": {
        "colab": {
          "base_uri": "https://localhost:8080/"
        },
        "id": "CwKcopgFwp5U",
        "outputId": "76558c12-35a7-422e-fd56-c6ad1ccbf275"
      },
      "execution_count": null,
      "outputs": [
        {
          "output_type": "stream",
          "name": "stdout",
          "text": [
            "(70585, 2)\n",
            "(70585,)\n",
            "(30251, 2)\n",
            "(30251,)\n"
          ]
        }
      ]
    },
    {
      "cell_type": "code",
      "source": [],
      "metadata": {
        "id": "EJxP7ZSKxcwF"
      },
      "execution_count": null,
      "outputs": []
    },
    {
      "cell_type": "code",
      "source": [
        "# Model creation using AutoRec\n",
        "# Various iteration were carried out by changing the hyperparameters in the code\n",
        "# Model for the implementation of AutoEncoder\n",
        "# Various hyperparameters were tested by changing the values and architectures within the code\n",
        "class AutoRec(keras.Model):\n",
        "  def __init__(self, embedding_size, **kwargs):\n",
        "    super(AutoRec, self).__init__(**kwargs)\n",
        "    self.encoder = keras.Sequential([layers.Input(shape=(5650,)),\n",
        "                                     layers.Dense(256, activation='relu'),\n",
        "                                     layers.Dropout(0.5),\n",
        "                                     layers.Dense(128, activation='relu'),\n",
        "                                     layers.Dropout(0.4),\n",
        "                                     layers.Dense(64, activation='relu'),\n",
        "                                     #layers.Dropout(0.2),\n",
        "                                     layers.Dense(32, activation='relu'),\n",
        "                                     layers.Dense(embedding_size, activation='relu')])\n",
        "    self.decoder = keras.Sequential([layers.Dense(64, activation='relu'),\n",
        "                                     layers.Dense(128, activation='relu'),\n",
        "                                     layers.Dense(256, activation='relu'),\n",
        "                                     layers.Dense(5650, activation='sigmoid')])\n",
        "\n",
        "  def call(self, inputs):\n",
        "    encoded = self.encoder(inputs)\n",
        "    decoded = self.decoder(encoded)\n",
        "    return(decoded)\n",
        "    \n"
      ],
      "metadata": {
        "id": "pVBKHwlxsVWw"
      },
      "execution_count": null,
      "outputs": []
    },
    {
      "cell_type": "code",
      "source": [
        "# Training Loop\n",
        "Embedding_size = [8, 16, 32, 64] \n",
        "\n",
        "\n",
        "new = {'val_loss':[]}\n",
        "for i in Embedding_size:\n",
        "  model = GMF(num_users, num_items, i)\n",
        "  model.compile(loss = tf.keras.losses.BinaryCrossentropy(), optimizer=keras.optimizers.Adagrad(lr=0.0001))\n",
        "  history = model.fit(\n",
        "    x=x_train,\n",
        "    y=y_train,\n",
        "    batch_size=256,\n",
        "    epochs=5,\n",
        "    verbose=1,\n",
        "    validation_data=(x_val, y_val)\n",
        "  )\n",
        "\n",
        "  new['val_loss'].append(history.history['val_loss'])"
      ],
      "metadata": {
        "id": "k9NvhaA2L6xw"
      },
      "execution_count": null,
      "outputs": []
    },
    {
      "cell_type": "markdown",
      "source": [
        "When the same architecture implemented using Book Crossing data. The validation losses across the architectures and epochs remain unchanged. One of the reasons concluded was the excessive presence of zero values in user-item interacion matrix. This hypothesis is discussed in the thesis. "
      ],
      "metadata": {
        "id": "shO4dAPEIUcn"
      }
    },
    {
      "cell_type": "code",
      "source": [],
      "metadata": {
        "id": "Oqa-my6BIsc8"
      },
      "execution_count": null,
      "outputs": []
    }
  ]
}